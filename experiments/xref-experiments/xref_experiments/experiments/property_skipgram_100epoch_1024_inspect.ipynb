{
 "cells": [
  {
   "cell_type": "code",
   "execution_count": 1,
   "id": "fatal-expert",
   "metadata": {},
   "outputs": [
    {
     "name": "stderr",
     "output_type": "stream",
     "text": [
      "/home/micha/work/occrp/followthemoney-predict/experiments/xref-experiments/venv/lib/python3.8/site-packages/IPython/core/pylabtools.py:280: MatplotlibDeprecationWarning: \n",
      "The keymap.all_axes rcparam was deprecated in Matplotlib 3.3 and will be removed two minor releases later.\n",
      "  import matplotlib\n"
     ]
    }
   ],
   "source": [
    "%autoreload 2\n",
    "%matplotlib inline"
   ]
  },
  {
   "cell_type": "code",
   "execution_count": 2,
   "id": "successful-vegetation",
   "metadata": {},
   "outputs": [],
   "source": [
    "from pathlib import Path\n",
    "import json\n",
    "\n",
    "import pandas as pd\n",
    "\n",
    "import torch\n",
    "from xref_experiments.model import PropertySkipgramModel\n",
    "from xref_experiments.create_model_data import load_vocabularies, ParquetModelData"
   ]
  },
  {
   "cell_type": "code",
   "execution_count": 3,
   "id": "generic-relay",
   "metadata": {},
   "outputs": [],
   "source": [
    "import pylab as py\n",
    "import seaborn as sns"
   ]
  },
  {
   "cell_type": "code",
   "execution_count": 4,
   "id": "described-maple",
   "metadata": {},
   "outputs": [],
   "source": [
    "data_dir = Path(\"/scratch/xref-experiments/\")\n",
    "vocabularies = load_vocabularies(data_dir / 'vocabulary')\n",
    "data = ParquetModelData(data_dir / 'model-data', \"r\", vocabularies=vocabularies).open()"
   ]
  },
  {
   "cell_type": "code",
   "execution_count": 5,
   "id": "dental-southwest",
   "metadata": {},
   "outputs": [],
   "source": [
    "history = []\n",
    "with open('../property_skipgram_100epoch_1024_history.json') as fd:\n",
    "    history_data = json.loads(fd.read())\n",
    "for phase, items in history_data.items():\n",
    "    for metric, values in items.items():\n",
    "        for epoch, value in enumerate(values):\n",
    "            history.append({'phase': phase, 'metric': metric, 'value': value, 'epoch': epoch})\n",
    "history = pd.DataFrame.from_dict(history)"
   ]
  },
  {
   "cell_type": "code",
   "execution_count": 6,
   "id": "pressing-coordination",
   "metadata": {},
   "outputs": [
    {
     "ename": "RuntimeError",
     "evalue": "Error(s) in loading state_dict for PropertySkipgramModel:\n\tsize mismatch for property_embedding.embedding.weight: copying a param with shape torch.Size([74495, 1024]) from checkpoint, the shape in current model is torch.Size([70274, 1024]).",
     "output_type": "error",
     "traceback": [
      "\u001b[0;31m---------------------------------------------------------------------------\u001b[0m",
      "\u001b[0;31mRuntimeError\u001b[0m                              Traceback (most recent call last)",
      "\u001b[0;32m<ipython-input-6-c562c6dea7cb>\u001b[0m in \u001b[0;36m<module>\u001b[0;34m\u001b[0m\n\u001b[1;32m      1\u001b[0m \u001b[0mmodel\u001b[0m \u001b[0;34m=\u001b[0m \u001b[0mPropertySkipgramModel\u001b[0m\u001b[0;34m(\u001b[0m\u001b[0mdata\u001b[0m\u001b[0;34m,\u001b[0m \u001b[0mn_embed\u001b[0m\u001b[0;34m=\u001b[0m\u001b[0;36m1024\u001b[0m\u001b[0;34m)\u001b[0m\u001b[0;34m\u001b[0m\u001b[0;34m\u001b[0m\u001b[0m\n\u001b[0;32m----> 2\u001b[0;31m \u001b[0mmodel\u001b[0m\u001b[0;34m.\u001b[0m\u001b[0mload_state_dict\u001b[0m\u001b[0;34m(\u001b[0m\u001b[0mtorch\u001b[0m\u001b[0;34m.\u001b[0m\u001b[0mload\u001b[0m\u001b[0;34m(\u001b[0m\u001b[0;34m'../property_skipgram_100epoch_1024.tch'\u001b[0m\u001b[0;34m)\u001b[0m\u001b[0;34m)\u001b[0m\u001b[0;34m\u001b[0m\u001b[0;34m\u001b[0m\u001b[0m\n\u001b[0m",
      "\u001b[0;32m~/work/occrp/followthemoney-predict/experiments/xref-experiments/venv/lib/python3.8/site-packages/torch/nn/modules/module.py\u001b[0m in \u001b[0;36mload_state_dict\u001b[0;34m(self, state_dict, strict)\u001b[0m\n\u001b[1;32m   1049\u001b[0m \u001b[0;34m\u001b[0m\u001b[0m\n\u001b[1;32m   1050\u001b[0m         \u001b[0;32mif\u001b[0m \u001b[0mlen\u001b[0m\u001b[0;34m(\u001b[0m\u001b[0merror_msgs\u001b[0m\u001b[0;34m)\u001b[0m \u001b[0;34m>\u001b[0m \u001b[0;36m0\u001b[0m\u001b[0;34m:\u001b[0m\u001b[0;34m\u001b[0m\u001b[0;34m\u001b[0m\u001b[0m\n\u001b[0;32m-> 1051\u001b[0;31m             raise RuntimeError('Error(s) in loading state_dict for {}:\\n\\t{}'.format(\n\u001b[0m\u001b[1;32m   1052\u001b[0m                                self.__class__.__name__, \"\\n\\t\".join(error_msgs)))\n\u001b[1;32m   1053\u001b[0m         \u001b[0;32mreturn\u001b[0m \u001b[0m_IncompatibleKeys\u001b[0m\u001b[0;34m(\u001b[0m\u001b[0mmissing_keys\u001b[0m\u001b[0;34m,\u001b[0m \u001b[0munexpected_keys\u001b[0m\u001b[0;34m)\u001b[0m\u001b[0;34m\u001b[0m\u001b[0;34m\u001b[0m\u001b[0m\n",
      "\u001b[0;31mRuntimeError\u001b[0m: Error(s) in loading state_dict for PropertySkipgramModel:\n\tsize mismatch for property_embedding.embedding.weight: copying a param with shape torch.Size([74495, 1024]) from checkpoint, the shape in current model is torch.Size([70274, 1024])."
     ]
    }
   ],
   "source": [
    "model = PropertySkipgramModel(data, n_embed=1024)\n",
    "model.load_state_dict(torch.load('../property_skipgram_100epoch_1024.tch'))"
   ]
  },
  {
   "cell_type": "code",
   "execution_count": null,
   "id": "proper-imagination",
   "metadata": {},
   "outputs": [],
   "source": [
    "history.head()"
   ]
  },
  {
   "cell_type": "code",
   "execution_count": null,
   "id": "norman-garbage",
   "metadata": {},
   "outputs": [],
   "source": [
    "g = sns.FacetGrid(history, col=\"metric\")\n",
    "g.map_dataframe(sns.lineplot, x='epoch', y='value', hue='phase')\n",
    "g.add_legend()"
   ]
  },
  {
   "cell_type": "code",
   "execution_count": null,
   "id": "silent-jordan",
   "metadata": {},
   "outputs": [],
   "source": [
    "df = next(data.skipgrams('test', batch_size=65536))"
   ]
  },
  {
   "cell_type": "code",
   "execution_count": null,
   "id": "geographic-florist",
   "metadata": {},
   "outputs": [],
   "source": [
    "df.info()"
   ]
  },
  {
   "cell_type": "code",
   "execution_count": null,
   "id": "elementary-programming",
   "metadata": {},
   "outputs": [],
   "source": [
    "df['predict'] = model(test_sample).detach().numpy()\n",
    "df['predict_class'] = (df['predict'] > 0.5).astype('int')\n",
    "df['correct'] = (df['target'] == df['predict_class']).astype('int')"
   ]
  },
  {
   "cell_type": "code",
   "execution_count": null,
   "id": "received-lighting",
   "metadata": {},
   "outputs": [],
   "source": [
    "pd.crosstab(df['target'], df['predict_class'], normalize='columns')"
   ]
  },
  {
   "cell_type": "code",
   "execution_count": null,
   "id": "authentic-label",
   "metadata": {},
   "outputs": [],
   "source": [
    "g = sns.FacetGrid(df, col=\"schema_x\", row='schema_y')\n",
    "g.set_titles(col_template=\"{data.vocabularies['schema'].invert(col_name)}\",\n",
    "             row_template=\"{data.vocabularies['schema'].invert(row_name)}\")\n",
    "g.map_dataframe(sns.histplot, 'correct')\n",
    "#g.add_legend()"
   ]
  },
  {
   "cell_type": "code",
   "execution_count": null,
   "id": "manual-basement",
   "metadata": {},
   "outputs": [],
   "source": [
    "df.query('correct == 0')[['ngrams_x', 'ngrams_y']].applymap(data.vocabularies['ngrams'].invert).head(100)"
   ]
  },
  {
   "cell_type": "code",
   "execution_count": null,
   "id": "treated-starter",
   "metadata": {},
   "outputs": [],
   "source": []
  }
 ],
 "metadata": {
  "kernelspec": {
   "display_name": "Python 3",
   "language": "python",
   "name": "python3"
  },
  "language_info": {
   "codemirror_mode": {
    "name": "ipython",
    "version": 3
   },
   "file_extension": ".py",
   "mimetype": "text/x-python",
   "name": "python",
   "nbconvert_exporter": "python",
   "pygments_lexer": "ipython3",
   "version": "3.8.6"
  }
 },
 "nbformat": 4,
 "nbformat_minor": 5
}
