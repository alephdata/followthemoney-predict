{
 "cells": [
  {
   "cell_type": "code",
   "execution_count": 1,
   "id": "signal-retro",
   "metadata": {},
   "outputs": [
    {
     "name": "stderr",
     "output_type": "stream",
     "text": [
      "/home/micha/work/occrp/followthemoney-predict/experiments/xref-experiments/xref_experiments/experiments/profiles/venv/lib/python3.8/site-packages/arviz/__init__.py:8: MatplotlibDeprecationWarning: \n",
      "The keymap.all_axes rcparam was deprecated in Matplotlib 3.3 and will be removed two minor releases later.\n",
      "  from matplotlib.colors import LinearSegmentedColormap\n",
      "/home/micha/work/occrp/followthemoney-predict/experiments/xref-experiments/xref_experiments/experiments/profiles/profiles.py:8: TqdmExperimentalWarning: Using `tqdm.autonotebook.tqdm` in notebook mode. Use `tqdm.tqdm` instead to force console mode (e.g. in jupyter console)\n",
      "  from tqdm.autonotebook import tqdm\n"
     ]
    }
   ],
   "source": [
    "from pathlib import Path\n",
    "from collections import Counter, defaultdict\n",
    "import json\n",
    "from pprint import pprint\n",
    "from itertools import chain, islice\n",
    "import math\n",
    "\n",
    "import pandas as pd\n",
    "import numpy as np\n",
    "import pymc3 as pm\n",
    "import arviz as ar\n",
    "import seaborn as sns\n",
    "\n",
    "from sklearn import metrics\n",
    "\n",
    "import pylab as py\n",
    "from tqdm.notebook import tqdm\n",
    "from followthemoney import compare, model\n",
    "\n",
    "from profiles import Profile, ProfileCollection, _describe_list, Judgement\n",
    "import utils"
   ]
  },
  {
   "cell_type": "code",
   "execution_count": 2,
   "id": "right-internship",
   "metadata": {},
   "outputs": [],
   "source": [
    "profiles = ProfileCollection.load_dir('../../../data/profiles/')"
   ]
  },
  {
   "cell_type": "code",
   "execution_count": 3,
   "id": "steady-amateur",
   "metadata": {},
   "outputs": [
    {
     "name": "stdout",
     "output_type": "stream",
     "text": [
      "Number of profiles: 4580\n",
      "Mean profile size: 2.9342794759825326\n",
      "STD profile size: 4.563315324584473\n",
      "Median profile size: 2.0\n",
      "Unique Entities: 13116\n",
      "Judgement Counts: [(<Judgement.POSITIVE: 'positive'>, 9051), (<Judgement.NEGATIVE: 'negative'>, 3775), (<Judgement.UNSURE: 'unsure'>, 607), (None, 6)]\n",
      "Mean entity num properties: 5.731750874321006\n",
      "STD entity num properties: 3.2463865091227393\n",
      "Median entity num properties: 5.0\n"
     ]
    }
   ],
   "source": [
    "profiles.describe()"
   ]
  },
  {
   "cell_type": "code",
   "execution_count": 4,
   "id": "other-perception",
   "metadata": {},
   "outputs": [],
   "source": [
    "user_weight = utils.create_user_weights_lookup(profiles)"
   ]
  },
  {
   "cell_type": "code",
   "execution_count": 5,
   "id": "silver-jordan",
   "metadata": {},
   "outputs": [
    {
     "data": {
      "image/png": "[encoded data removed]",
      "text/plain": [
       "<Figure size 432x288 with 1 Axes>"
      ]
     },
     "metadata": {
      "needs_background": "light"
     },
     "output_type": "display_data"
    }
   ],
   "source": [
    "py.hist(user_weight.values())\n",
    "py.xlabel(\"User Weight\")\n",
    "py.ylabel(\"Number of Users\")\n",
    "py.title(\"Distribution of user weights\")\n",
    "py.gca().set_yscale('log')\n",
    "py.show()"
   ]
  },
  {
   "cell_type": "code",
   "execution_count": 6,
   "id": "discrete-declaration",
   "metadata": {},
   "outputs": [
    {
     "data": {
      "image/png": "[encoded data removed]",
      "text/plain": [
       "<Figure size 432x288 with 1 Axes>"
      ]
     },
     "metadata": {
      "needs_background": "light"
     },
     "output_type": "display_data"
    }
   ],
   "source": [
    "py.hist([user_weight[decision['added_by_id']] for decision in profiles.iter_decisions()])\n",
    "py.xlabel(\"Decision Weight\")\n",
    "py.ylabel(\"Number of Decisions\")\n",
    "py.title(\"Distribution of user weights on decisions\")\n",
    "py.gca().set_yscale('log')\n",
    "py.show()"
   ]
  },
  {
   "cell_type": "code",
   "execution_count": 7,
   "id": "alert-local",
   "metadata": {},
   "outputs": [
    {
     "data": {
      "application/vnd.jupyter.widget-view+json": {
       "model_id": "88e3785e545d416494440e3526ca22a6",
       "version_major": 2,
       "version_minor": 0
      },
      "text/plain": [
       "  0%|          | 0/4580 [00:00<?, ?it/s]"
      ]
     },
     "metadata": {},
     "output_type": "display_data"
    }
   ],
   "source": [
    "pairs_weighted_sum = Counter()\n",
    "pairs_count = Counter()\n",
    "for profile in tqdm(profiles.values()):\n",
    "    for (e1, e2), judgement in profile.iter_pairs():\n",
    "        weights = utils.calculate_pair_weights(e1, e2, profile, user_weight)\n",
    "        pairs_weighted_sum[judgement] += weights.user_weight * weights.pair_weight\n",
    "        pairs_count[judgement] += 1\n",
    "pairs_avg = Counter({j: pairs_weighted_sum[j] / pairs_count[j] for j in pairs_count.keys()})"
   ]
  },
  {
   "cell_type": "code",
   "execution_count": 8,
   "id": "parliamentary-internet",
   "metadata": {},
   "outputs": [
    {
     "name": "stdout",
     "output_type": "stream",
     "text": [
      "Pairs Weighted Sum:\n",
      "Total number of pairs: 40503.59786438765\n",
      "Pair judgements:\n",
      "[(<Judgement.NEGATIVE: 'negative'>, 27935.319542551817),\n",
      " (<Judgement.POSITIVE: 'positive'>, 7933.334571029411),\n",
      " (<Judgement.UNSURE: 'unsure'>, 4634.943750806419)]\n",
      "\n",
      "Pairs Weighted Average:\n",
      "Total number of pairs: 2.1033814436186185\n",
      "Pair judgements:\n",
      "[(<Judgement.UNSURE: 'unsure'>, 0.8877501916886458),\n",
      " (<Judgement.NEGATIVE: 'negative'>, 0.8823258754477691),\n",
      " (<Judgement.POSITIVE: 'positive'>, 0.3333053764822036)]\n"
     ]
    }
   ],
   "source": [
    "print(\"Pairs Weighted Sum:\")\n",
    "print(\"Total number of pairs:\", sum(pairs_weighted_sum.values()))\n",
    "print(\"Pair judgements:\")\n",
    "pprint(pairs_weighted_sum.most_common())\n",
    "\n",
    "print()\n",
    "\n",
    "print(\"Pairs Weighted Average:\")\n",
    "print(\"Total number of pairs:\", sum(pairs_avg.values()))\n",
    "print(\"Pair judgements:\")\n",
    "pprint(pairs_avg.most_common())"
   ]
  },
  {
   "cell_type": "code",
   "execution_count": 12,
   "id": "accepted-officer",
   "metadata": {
    "scrolled": true
   },
   "outputs": [
    {
     "data": {
      "application/vnd.jupyter.widget-view+json": {
       "model_id": "8ca61da4ba304605a8cf12fc728c4cdb",
       "version_major": 2,
       "version_minor": 0
      },
      "text/plain": [
       "  0%|          | 0/4580 [00:00<?, ?it/s]"
      ]
     },
     "metadata": {},
     "output_type": "display_data"
    }
   ],
   "source": [
    "pairs_weights = defaultdict(list)\n",
    "pairs_compare_score = defaultdict(list)\n",
    "for profile in tqdm(profiles.values()):\n",
    "    pairs = profile.iter_pairs()\n",
    "    for (e1, e2), judgement in pairs:\n",
    "        pairs_compare_score[judgement].append(compare.compare(model, e1, e2))"
   ]
  },
  {
   "cell_type": "code",
   "execution_count": 13,
   "id": "patient-occasions",
   "metadata": {},
   "outputs": [
    {
     "data": {
      "image/png": "[encoded data removed]",
      "text/plain": [
       "<Figure size 432x288 with 3 Axes>"
      ]
     },
     "metadata": {
      "needs_background": "light"
     },
     "output_type": "display_data"
    }
   ],
   "source": [
    "fig, axs = py.subplots(nrows=len(pairs_compare_score), sharey=True)\n",
    "for ax, (key, values) in zip(axs, pairs_compare_score.items()):\n",
    "    ax.hist(values, label=key, bins=10, density=True)\n",
    "    ax.set_ylabel(key.value)\n",
    "    ax.set_xlim(0, 1)\n",
    "py.suptitle('ftm.compare on xref party data')\n",
    "py.tight_layout()\n",
    "py.show()"
   ]
  },
  {
   "cell_type": "code",
   "execution_count": 14,
   "id": "square-overview",
   "metadata": {},
   "outputs": [
    {
     "name": "stdout",
     "output_type": "stream",
     "text": [
      "NEGATIVE\n",
      "\tNEGATIVE pairs with 0.2 < compare2 < 0.5: 13860: 43.78%\n",
      "\tNEGATIVE pairs with 0.2 < compare2 < 0.7: 26081: 82.38%\n",
      "\tNEGATIVE pairs with 0.2 < compare2 < 0.95: 29936: 94.55%\n",
      "POSITIVE\n",
      "\tPOSITIVE pairs with 0.2 < compare2 < 0.5: 1852: 7.78%\n",
      "\tPOSITIVE pairs with 0.2 < compare2 < 0.7: 5540: 23.28%\n",
      "\tPOSITIVE pairs with 0.2 < compare2 < 0.95: 9820: 41.26%\n",
      "UNSURE\n",
      "\tUNSURE pairs with 0.2 < compare2 < 0.5: 1615: 30.93%\n",
      "\tUNSURE pairs with 0.2 < compare2 < 0.7: 3950: 75.66%\n",
      "\tUNSURE pairs with 0.2 < compare2 < 0.95: 4960: 95.00%\n"
     ]
    }
   ],
   "source": [
    "for judgement, data in pairs_compare_score.items():\n",
    "    print(judgement.name)\n",
    "    for threshold in (0.5, 0.7, 0.95):\n",
    "        N = sum(0.2 < s < threshold for s in data)\n",
    "        pct = N / len(data) * 100\n",
    "        print(f'\\t{judgement.name} pairs with 0.2 < compare2 < {threshold}: {N}: {pct:0.2f}%')"
   ]
  }
 ],
 "metadata": {
  "kernelspec": {
   "display_name": "Python 3",
   "language": "python",
   "name": "python3"
  },
  "language_info": {
   "codemirror_mode": {
    "name": "ipython",
    "version": 3
   },
   "file_extension": ".py",
   "mimetype": "text/x-python",
   "name": "python",
   "nbconvert_exporter": "python",
   "pygments_lexer": "ipython3",
   "version": "3.8.6"
  }
 },
 "nbformat": 4,
 "nbformat_minor": 5
}
