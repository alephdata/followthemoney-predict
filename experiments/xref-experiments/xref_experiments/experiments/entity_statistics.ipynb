{
 "cells": [
  {
   "cell_type": "code",
   "execution_count": 1,
   "id": "consistent-imaging",
   "metadata": {},
   "outputs": [],
   "source": [
    "%matplotlib inline\n",
    "%autoreload 2"
   ]
  },
  {
   "cell_type": "code",
   "execution_count": 2,
   "id": "first-spain",
   "metadata": {},
   "outputs": [],
   "source": [
    "from xref_experiments import data"
   ]
  },
  {
   "cell_type": "code",
   "execution_count": 3,
   "id": "requested-penny",
   "metadata": {},
   "outputs": [],
   "source": [
    "from pathlib import Path\n",
    "from collections import Counter\n",
    "from itertools import combinations\n",
    "\n",
    "import orjson as json"
   ]
  },
  {
   "cell_type": "code",
   "execution_count": 4,
   "id": "bronze-angola",
   "metadata": {},
   "outputs": [],
   "source": [
    "data_path = Path('/data/xref-experiments/occrp-data-exports/data/')\n",
    "data_exports = list(data_path.glob('*/*.json'))"
   ]
  },
  {
   "cell_type": "code",
   "execution_count": 5,
   "id": "acoustic-gregory",
   "metadata": {
    "scrolled": false
   },
   "outputs": [
    {
     "data": {
      "application/vnd.jupyter.widget-view+json": {
       "model_id": "85b0f416ac304cdaac4d55c06700a554",
       "version_major": 2,
       "version_minor": 0
      },
      "text/plain": [
       "Exports:   0%|          | 0.00/285G [00:00<?, ?B/s]"
      ]
     },
     "metadata": {},
     "output_type": "display_data"
    },
    {
     "data": {
      "application/vnd.jupyter.widget-view+json": {
       "model_id": "",
       "version_major": 2,
       "version_minor": 0
      },
      "text/plain": [
       "gb_landregistry_owners: 0.00B [00:00, ?B/s]"
      ]
     },
     "metadata": {},
     "output_type": "display_data"
    },
    {
     "data": {
      "application/vnd.jupyter.widget-view+json": {
       "model_id": "",
       "version_major": 2,
       "version_minor": 0
      },
      "text/plain": [
       "ua_sdfm_sanctions: 0.00B [00:00, ?B/s]"
      ]
     },
     "metadata": {},
     "output_type": "display_data"
    },
    {
     "data": {
      "application/vnd.jupyter.widget-view+json": {
       "model_id": "",
       "version_major": 2,
       "version_minor": 0
      },
      "text/plain": [
       "md_blacklist:   0%|          | 0.00/35.0k [00:00<?, ?B/s]"
      ]
     },
     "metadata": {},
     "output_type": "display_data"
    },
    {
     "data": {
      "application/vnd.jupyter.widget-view+json": {
       "model_id": "",
       "version_major": 2,
       "version_minor": 0
      },
      "text/plain": [
       "zz_magnitsky:   0%|          | 0.00/50.7k [00:00<?, ?B/s]"
      ]
     },
     "metadata": {},
     "output_type": "display_data"
    },
    {
     "data": {
      "application/vnd.jupyter.widget-view+json": {
       "model_id": "",
       "version_major": 2,
       "version_minor": 0
      },
      "text/plain": [
       "br_lavajato:   0%|          | 0.00/102k [00:00<?, ?B/s]"
      ]
     },
     "metadata": {},
     "output_type": "display_data"
    },
    {
     "data": {
      "application/vnd.jupyter.widget-view+json": {
       "model_id": "",
       "version_major": 2,
       "version_minor": 0
      },
      "text/plain": [
       "ba_companies_foreign:   0%|          | 0.00/155k [00:00<?, ?B/s]"
      ]
     },
     "metadata": {},
     "output_type": "display_data"
    },
    {
     "data": {
      "application/vnd.jupyter.widget-view+json": {
       "model_id": "",
       "version_major": 2,
       "version_minor": 0
      },
      "text/plain": [
       "ua_ldnr_pow_2014:   0%|          | 0.00/250k [00:00<?, ?B/s]"
      ]
     },
     "metadata": {},
     "output_type": "display_data"
    },
    {
     "data": {
      "application/vnd.jupyter.widget-view+json": {
       "model_id": "",
       "version_major": 2,
       "version_minor": 0
      },
      "text/plain": [
       "coe_assembly:   0%|          | 0.00/301k [00:00<?, ?B/s]"
      ]
     },
     "metadata": {},
     "output_type": "display_data"
    },
    {
     "data": {
      "application/vnd.jupyter.widget-view+json": {
       "model_id": "",
       "version_major": 2,
       "version_minor": 0
      },
      "text/plain": [
       "ss_flexicadastre:   0%|          | 0.00/331k [00:00<?, ?B/s]"
      ]
     },
     "metadata": {},
     "output_type": "display_data"
    },
    {
     "data": {
      "application/vnd.jupyter.widget-view+json": {
       "model_id": "",
       "version_major": 2,
       "version_minor": 0
      },
      "text/plain": [
       "by_public_assembly_delegates:   0%|          | 0.00/370k [00:00<?, ?B/s]"
      ]
     },
     "metadata": {},
     "output_type": "display_data"
    },
    {
     "data": {
      "application/vnd.jupyter.widget-view+json": {
       "model_id": "",
       "version_major": 2,
       "version_minor": 0
      },
      "text/plain": [
       "eu_meps:   0%|          | 0.00/588k [00:00<?, ?B/s]"
      ]
     },
     "metadata": {},
     "output_type": "display_data"
    },
    {
     "data": {
      "application/vnd.jupyter.widget-view+json": {
       "model_id": "",
       "version_major": 2,
       "version_minor": 0
      },
      "text/plain": [
       "ru_diplomats:   0%|          | 0.00/643k [00:00<?, ?B/s]"
      ]
     },
     "metadata": {},
     "output_type": "display_data"
    },
    {
     "data": {
      "application/vnd.jupyter.widget-view+json": {
       "model_id": "",
       "version_major": 2,
       "version_minor": 0
      },
      "text/plain": [
       "worldbank_debarred:   0%|          | 0.00/808k [00:00<?, ?B/s]"
      ]
     },
     "metadata": {},
     "output_type": "display_data"
    },
    {
     "data": {
      "application/vnd.jupyter.widget-view+json": {
       "model_id": "",
       "version_major": 2,
       "version_minor": 0
      },
      "text/plain": [
       "un_sc_sanctions:   0%|          | 0.00/1.24M [00:00<?, ?B/s]"
      ]
     },
     "metadata": {},
     "output_type": "display_data"
    },
    {
     "data": {
      "application/vnd.jupyter.widget-view+json": {
       "model_id": "",
       "version_major": 2,
       "version_minor": 0
      },
      "text/plain": [
       "za_mines:   0%|          | 0.00/1.37M [00:00<?, ?B/s]"
      ]
     },
     "metadata": {},
     "output_type": "display_data"
    },
    {
     "data": {
      "application/vnd.jupyter.widget-view+json": {
       "model_id": "",
       "version_major": 2,
       "version_minor": 0
      },
      "text/plain": [
       "kg_fiu_national:   0%|          | 0.00/1.38M [00:00<?, ?B/s]"
      ]
     },
     "metadata": {},
     "output_type": "display_data"
    },
    {
     "data": {
      "application/vnd.jupyter.widget-view+json": {
       "model_id": "",
       "version_major": 2,
       "version_minor": 0
      },
      "text/plain": [
       "gb_scotland_overseas_owners:   0%|          | 0.00/1.89M [00:00<?, ?B/s]"
      ]
     },
     "metadata": {},
     "output_type": "display_data"
    },
    {
     "data": {
      "application/vnd.jupyter.widget-view+json": {
       "model_id": "",
       "version_major": 2,
       "version_minor": 0
      },
      "text/plain": [
       "au_dfat_sanctions:   0%|          | 0.00/2.21M [00:00<?, ?B/s]"
      ]
     },
     "metadata": {},
     "output_type": "display_data"
    },
    {
     "data": {
      "application/vnd.jupyter.widget-view+json": {
       "model_id": "",
       "version_major": 2,
       "version_minor": 0
      },
      "text/plain": [
       "gb_hmt_sanctions:   0%|          | 0.00/2.38M [00:00<?, ?B/s]"
      ]
     },
     "metadata": {},
     "output_type": "display_data"
    },
    {
     "data": {
      "application/vnd.jupyter.widget-view+json": {
       "model_id": "",
       "version_major": 2,
       "version_minor": 0
      },
      "text/plain": [
       "mw_flexicadastre:   0%|          | 0.00/2.48M [00:00<?, ?B/s]"
      ]
     },
     "metadata": {},
     "output_type": "display_data"
    },
    {
     "data": {
      "application/vnd.jupyter.widget-view+json": {
       "model_id": "",
       "version_major": 2,
       "version_minor": 0
      },
      "text/plain": [
       "ru_perm_region_phones_2000:   0%|          | 0.00/3.62M [00:00<?, ?B/s]"
      ]
     },
     "metadata": {},
     "output_type": "display_data"
    },
    {
     "data": {
      "application/vnd.jupyter.widget-view+json": {
       "model_id": "",
       "version_major": 2,
       "version_minor": 0
      },
      "text/plain": [
       "ch_seco_sanctions:   0%|          | 0.00/3.91M [00:00<?, ?B/s]"
      ]
     },
     "metadata": {},
     "output_type": "display_data"
    },
    {
     "data": {
      "application/vnd.jupyter.widget-view+json": {
       "model_id": "",
       "version_major": 2,
       "version_minor": 0
      },
      "text/plain": [
       "cy_icpac_accountants:   0%|          | 0.00/4.39M [00:00<?, ?B/s]"
      ]
     },
     "metadata": {},
     "output_type": "display_data"
    },
    {
     "data": {
      "application/vnd.jupyter.widget-view+json": {
       "model_id": "",
       "version_major": 2,
       "version_minor": 0
      },
      "text/plain": [
       "kn_passports_diplomats:   0%|          | 0.00/4.63M [00:00<?, ?B/s]"
      ]
     },
     "metadata": {},
     "output_type": "display_data"
    },
    {
     "data": {
      "application/vnd.jupyter.widget-view+json": {
       "model_id": "",
       "version_major": 2,
       "version_minor": 0
      },
      "text/plain": [
       "pg_flexicadastre:   0%|          | 0.00/7.23M [00:00<?, ?B/s]"
      ]
     },
     "metadata": {},
     "output_type": "display_data"
    },
    {
     "data": {
      "application/vnd.jupyter.widget-view+json": {
       "model_id": "",
       "version_major": 2,
       "version_minor": 0
      },
      "text/plain": [
       "ck_registry:   0%|          | 0.00/9.47M [00:00<?, ?B/s]"
      ]
     },
     "metadata": {},
     "output_type": "display_data"
    },
    {
     "data": {
      "application/vnd.jupyter.widget-view+json": {
       "model_id": "",
       "version_major": 2,
       "version_minor": 0
      },
      "text/plain": [
       "rw_flexicadastre:   0%|          | 0.00/9.61M [00:00<?, ?B/s]"
      ]
     },
     "metadata": {},
     "output_type": "display_data"
    },
    {
     "data": {
      "application/vnd.jupyter.widget-view+json": {
       "model_id": "",
       "version_major": 2,
       "version_minor": 0
      },
      "text/plain": [
       "zz_laundromat_azerbaijani:   0%|          | 0.00/14.1M [00:00<?, ?B/s]"
      ]
     },
     "metadata": {},
     "output_type": "display_data"
    },
    {
     "data": {
      "application/vnd.jupyter.widget-view+json": {
       "model_id": "",
       "version_major": 2,
       "version_minor": 0
      },
      "text/plain": [
       "ug_flexicadastre:   0%|          | 0.00/35.7M [00:00<?, ?B/s]"
      ]
     },
     "metadata": {},
     "output_type": "display_data"
    },
    {
     "data": {
      "application/vnd.jupyter.widget-view+json": {
       "model_id": "",
       "version_major": 2,
       "version_minor": 0
      },
      "text/plain": [
       "gn_flexicadastre:   0%|          | 0.00/41.3M [00:00<?, ?B/s]"
      ]
     },
     "metadata": {},
     "output_type": "display_data"
    },
    {
     "data": {
      "application/vnd.jupyter.widget-view+json": {
       "model_id": "",
       "version_major": 2,
       "version_minor": 0
      },
      "text/plain": [
       "gg_greg:   0%|          | 0.00/44.5M [00:00<?, ?B/s]"
      ]
     },
     "metadata": {},
     "output_type": "display_data"
    },
    {
     "data": {
      "application/vnd.jupyter.widget-view+json": {
       "model_id": "",
       "version_major": 2,
       "version_minor": 0
      },
      "text/plain": [
       "rs_donations:   0%|          | 0.00/54.3M [00:00<?, ?B/s]"
      ]
     },
     "metadata": {},
     "output_type": "display_data"
    },
    {
     "data": {
      "application/vnd.jupyter.widget-view+json": {
       "model_id": "",
       "version_major": 2,
       "version_minor": 0
      },
      "text/plain": [
       "gb_landregistry_prices:   0%|          | 0.00/74.0M [00:00<?, ?B/s]"
      ]
     },
     "metadata": {},
     "output_type": "display_data"
    },
    {
     "data": {
      "application/vnd.jupyter.widget-view+json": {
       "model_id": "",
       "version_major": 2,
       "version_minor": 0
      },
      "text/plain": [
       "md_contract_awards:   0%|          | 0.00/76.2M [00:00<?, ?B/s]"
      ]
     },
     "metadata": {},
     "output_type": "display_data"
    },
    {
     "data": {
      "application/vnd.jupyter.widget-view+json": {
       "model_id": "",
       "version_major": 2,
       "version_minor": 0
      },
      "text/plain": [
       "ru_tomsk_enterprises_2005:   0%|          | 0.00/81.4M [00:00<?, ?B/s]"
      ]
     },
     "metadata": {},
     "output_type": "display_data"
    },
    {
     "data": {
      "application/vnd.jupyter.widget-view+json": {
       "model_id": "",
       "version_major": 2,
       "version_minor": 0
      },
      "text/plain": [
       "na_flexicadastre:   0%|          | 0.00/104M [00:00<?, ?B/s]"
      ]
     },
     "metadata": {},
     "output_type": "display_data"
    },
    {
     "data": {
      "application/vnd.jupyter.widget-view+json": {
       "model_id": "",
       "version_major": 2,
       "version_minor": 0
      },
      "text/plain": [
       "zz_icij_offshore:   0%|          | 0.00/124M [00:00<?, ?B/s]"
      ]
     },
     "metadata": {},
     "output_type": "display_data"
    },
    {
     "data": {
      "application/vnd.jupyter.widget-view+json": {
       "model_id": "",
       "version_major": 2,
       "version_minor": 0
      },
      "text/plain": [
       "ru_perm_gibdd_2000:   0%|          | 0.00/138M [00:00<?, ?B/s]"
      ]
     },
     "metadata": {},
     "output_type": "display_data"
    },
    {
     "data": {
      "application/vnd.jupyter.widget-view+json": {
       "model_id": "",
       "version_major": 2,
       "version_minor": 0
      },
      "text/plain": [
       "ru_perm_gibdd:   0%|          | 0.00/147M [00:00<?, ?B/s]"
      ]
     },
     "metadata": {},
     "output_type": "display_data"
    },
    {
     "data": {
      "application/vnd.jupyter.widget-view+json": {
       "model_id": "",
       "version_major": 2,
       "version_minor": 0
      },
      "text/plain": [
       "tj_andoz:   0%|          | 0.00/148M [00:00<?, ?B/s]"
      ]
     },
     "metadata": {},
     "output_type": "display_data"
    },
    {
     "data": {
      "application/vnd.jupyter.widget-view+json": {
       "model_id": "",
       "version_major": 2,
       "version_minor": 0
      },
      "text/plain": [
       "am_eregister_companies:   0%|          | 0.00/173M [00:00<?, ?B/s]"
      ]
     },
     "metadata": {},
     "output_type": "display_data"
    },
    {
     "data": {
      "application/vnd.jupyter.widget-view+json": {
       "model_id": "",
       "version_major": 2,
       "version_minor": 0
      },
      "text/plain": [
       "zz_icij_paradisepapers:   0%|          | 0.00/179M [00:00<?, ?B/s]"
      ]
     },
     "metadata": {},
     "output_type": "display_data"
    },
    {
     "data": {
      "application/vnd.jupyter.widget-view+json": {
       "model_id": "",
       "version_major": 2,
       "version_minor": 0
      },
      "text/plain": [
       "zm_flexicadastre:   0%|          | 0.00/193M [00:00<?, ?B/s]"
      ]
     },
     "metadata": {},
     "output_type": "display_data"
    },
    {
     "data": {
      "application/vnd.jupyter.widget-view+json": {
       "model_id": "",
       "version_major": 2,
       "version_minor": 0
      },
      "text/plain": [
       "kz_geology_reports:   0%|          | 0.00/206M [00:00<?, ?B/s]"
      ]
     },
     "metadata": {},
     "output_type": "display_data"
    },
    {
     "data": {
      "application/vnd.jupyter.widget-view+json": {
       "model_id": "",
       "version_major": 2,
       "version_minor": 0
      },
      "text/plain": [
       "zz_icij_panamapapers:   0%|          | 0.00/207M [00:00<?, ?B/s]"
      ]
     },
     "metadata": {},
     "output_type": "display_data"
    },
    {
     "data": {
      "application/vnd.jupyter.widget-view+json": {
       "model_id": "",
       "version_major": 2,
       "version_minor": 0
      },
      "text/plain": [
       "ba_katastar_new:   0%|          | 0.00/247M [00:00<?, ?B/s]"
      ]
     },
     "metadata": {},
     "output_type": "display_data"
    },
    {
     "data": {
      "application/vnd.jupyter.widget-view+json": {
       "model_id": "",
       "version_major": 2,
       "version_minor": 0
      },
      "text/plain": [
       "by_companies_2013_dissolved:   0%|          | 0.00/249M [00:00<?, ?B/s]"
      ]
     },
     "metadata": {},
     "output_type": "display_data"
    },
    {
     "data": {
      "application/vnd.jupyter.widget-view+json": {
       "model_id": "",
       "version_major": 2,
       "version_minor": 0
      },
      "text/plain": [
       "ru_perm_cars_2000:   0%|          | 0.00/250M [00:00<?, ?B/s]"
      ]
     },
     "metadata": {},
     "output_type": "display_data"
    },
    {
     "data": {
      "application/vnd.jupyter.widget-view+json": {
       "model_id": "",
       "version_major": 2,
       "version_minor": 0
      },
      "text/plain": [
       "eu_fts:   0%|          | 0.00/258M [00:00<?, ?B/s]"
      ]
     },
     "metadata": {},
     "output_type": "display_data"
    },
    {
     "data": {
      "application/vnd.jupyter.widget-view+json": {
       "model_id": "",
       "version_major": 2,
       "version_minor": 0
      },
      "text/plain": [
       "ke_courtcases:   0%|          | 0.00/263M [00:00<?, ?B/s]"
      ]
     },
     "metadata": {},
     "output_type": "display_data"
    },
    {
     "data": {
      "application/vnd.jupyter.widget-view+json": {
       "model_id": "",
       "version_major": 2,
       "version_minor": 0
      },
      "text/plain": [
       "mu_cbris:   0%|          | 0.00/285M [00:00<?, ?B/s]"
      ]
     },
     "metadata": {},
     "output_type": "display_data"
    },
    {
     "data": {
      "application/vnd.jupyter.widget-view+json": {
       "model_id": "",
       "version_major": 2,
       "version_minor": 0
      },
      "text/plain": [
       "mt_mbr_companies:   0%|          | 0.00/355M [00:00<?, ?B/s]"
      ]
     },
     "metadata": {},
     "output_type": "display_data"
    },
    {
     "data": {
      "application/vnd.jupyter.widget-view+json": {
       "model_id": "",
       "version_major": 2,
       "version_minor": 0
      },
      "text/plain": [
       "ru_opensubsidies:   0%|          | 0.00/378M [00:00<?, ?B/s]"
      ]
     },
     "metadata": {},
     "output_type": "display_data"
    },
    {
     "data": {
      "application/vnd.jupyter.widget-view+json": {
       "model_id": "",
       "version_major": 2,
       "version_minor": 0
      },
      "text/plain": [
       "ua_declarations:   0%|          | 0.00/406M [00:00<?, ?B/s]"
      ]
     },
     "metadata": {},
     "output_type": "display_data"
    },
    {
     "data": {
      "application/vnd.jupyter.widget-view+json": {
       "model_id": "",
       "version_major": 2,
       "version_minor": 0
      },
      "text/plain": [
       "br_procurement:   0%|          | 0.00/474M [00:00<?, ?B/s]"
      ]
     },
     "metadata": {},
     "output_type": "display_data"
    },
    {
     "data": {
      "application/vnd.jupyter.widget-view+json": {
       "model_id": "",
       "version_major": 2,
       "version_minor": 0
      },
      "text/plain": [
       "lt_procurement:   0%|          | 0.00/475M [00:00<?, ?B/s]"
      ]
     },
     "metadata": {},
     "output_type": "display_data"
    },
    {
     "data": {
      "application/vnd.jupyter.widget-view+json": {
       "model_id": "",
       "version_major": 2,
       "version_minor": 0
      },
      "text/plain": [
       "za_npo:   0%|          | 0.00/606M [00:00<?, ?B/s]"
      ]
     },
     "metadata": {},
     "output_type": "display_data"
    },
    {
     "data": {
      "application/vnd.jupyter.widget-view+json": {
       "model_id": "",
       "version_major": 2,
       "version_minor": 0
      },
      "text/plain": [
       "zz_parthia:   0%|          | 0.00/660M [00:00<?, ?B/s]"
      ]
     },
     "metadata": {},
     "output_type": "display_data"
    },
    {
     "data": {
      "application/vnd.jupyter.widget-view+json": {
       "model_id": "",
       "version_major": 2,
       "version_minor": 0
      },
      "text/plain": [
       "eu_samba_sis:   0%|          | 0.00/805M [00:00<?, ?B/s]"
      ]
     },
     "metadata": {},
     "output_type": "display_data"
    },
    {
     "data": {
      "application/vnd.jupyter.widget-view+json": {
       "model_id": "",
       "version_major": 2,
       "version_minor": 0
      },
      "text/plain": [
       "mk_procurement:   0%|          | 0.00/827M [00:00<?, ?B/s]"
      ]
     },
     "metadata": {},
     "output_type": "display_data"
    },
    {
     "data": {
      "application/vnd.jupyter.widget-view+json": {
       "model_id": "",
       "version_major": 2,
       "version_minor": 0
      },
      "text/plain": [
       "lu_redarrow_lbr_enriched:   0%|          | 0.00/866M [00:00<?, ?B/s]"
      ]
     },
     "metadata": {},
     "output_type": "display_data"
    },
    {
     "data": {
      "application/vnd.jupyter.widget-view+json": {
       "model_id": "",
       "version_major": 2,
       "version_minor": 0
      },
      "text/plain": [
       "ru_ekaterinburg_bti_2004:   0%|          | 0.00/950M [00:00<?, ?B/s]"
      ]
     },
     "metadata": {},
     "output_type": "display_data"
    },
    {
     "data": {
      "application/vnd.jupyter.widget-view+json": {
       "model_id": "",
       "version_major": 2,
       "version_minor": 0
      },
      "text/plain": [
       "ba_katastar:   0%|          | 0.00/995M [00:00<?, ?B/s]"
      ]
     },
     "metadata": {},
     "output_type": "display_data"
    },
    {
     "data": {
      "application/vnd.jupyter.widget-view+json": {
       "model_id": "",
       "version_major": 2,
       "version_minor": 0
      },
      "text/plain": [
       "ru_perm_region_registration_2000:   0%|          | 0.00/1.03G [00:00<?, ?B/s]"
      ]
     },
     "metadata": {},
     "output_type": "display_data"
    },
    {
     "data": {
      "application/vnd.jupyter.widget-view+json": {
       "model_id": "",
       "version_major": 2,
       "version_minor": 0
      },
      "text/plain": [
       "lb_companies_05012017:   0%|          | 0.00/1.13G [00:00<?, ?B/s]"
      ]
     },
     "metadata": {},
     "output_type": "display_data"
    },
    {
     "data": {
      "application/vnd.jupyter.widget-view+json": {
       "model_id": "",
       "version_major": 2,
       "version_minor": 0
      },
      "text/plain": [
       "cn_shanghai_ccp_member:   0%|          | 0.00/1.15G [00:00<?, ?B/s]"
      ]
     },
     "metadata": {},
     "output_type": "display_data"
    },
    {
     "data": {
      "application/vnd.jupyter.widget-view+json": {
       "model_id": "",
       "version_major": 2,
       "version_minor": 0
      },
      "text/plain": [
       "ru_accounting:   0%|          | 0.00/1.27G [00:00<?, ?B/s]"
      ]
     },
     "metadata": {},
     "output_type": "display_data"
    },
    {
     "data": {
      "application/vnd.jupyter.widget-view+json": {
       "model_id": "",
       "version_major": 2,
       "version_minor": 0
      },
      "text/plain": [
       "ru_ogrn_online:   0%|          | 0.00/1.39G [00:00<?, ?B/s]"
      ]
     },
     "metadata": {},
     "output_type": "display_data"
    },
    {
     "data": {
      "application/vnd.jupyter.widget-view+json": {
       "model_id": "",
       "version_major": 2,
       "version_minor": 0
      },
      "text/plain": [
       "ru_ekaterinburg_gibdd_2003_07:   0%|          | 0.00/1.46G [00:00<?, ?B/s]"
      ]
     },
     "metadata": {},
     "output_type": "display_data"
    },
    {
     "data": {
      "application/vnd.jupyter.widget-view+json": {
       "model_id": "",
       "version_major": 2,
       "version_minor": 0
      },
      "text/plain": [
       "uz_companies:   0%|          | 0.00/1.62G [00:00<?, ?B/s]"
      ]
     },
     "metadata": {},
     "output_type": "display_data"
    },
    {
     "data": {
      "application/vnd.jupyter.widget-view+json": {
       "model_id": "",
       "version_major": 2,
       "version_minor": 0
      },
      "text/plain": [
       "ru_openngo:   0%|          | 0.00/1.83G [00:00<?, ?B/s]"
      ]
     },
     "metadata": {},
     "output_type": "display_data"
    },
    {
     "data": {
      "application/vnd.jupyter.widget-view+json": {
       "model_id": "",
       "version_major": 2,
       "version_minor": 0
      },
      "text/plain": [
       "es_tenders:   0%|          | 0.00/1.83G [00:00<?, ?B/s]"
      ]
     },
     "metadata": {},
     "output_type": "display_data"
    },
    {
     "data": {
      "application/vnd.jupyter.widget-view+json": {
       "model_id": "",
       "version_major": 2,
       "version_minor": 0
      },
      "text/plain": [
       "ru_foreign_economic_activity:   0%|          | 0.00/1.98G [00:00<?, ?B/s]"
      ]
     },
     "metadata": {},
     "output_type": "display_data"
    },
    {
     "data": {
      "application/vnd.jupyter.widget-view+json": {
       "model_id": "",
       "version_major": 2,
       "version_minor": 0
      },
      "text/plain": [
       "me_katastar:   0%|          | 0.00/2.33G [00:00<?, ?B/s]"
      ]
     },
     "metadata": {},
     "output_type": "display_data"
    },
    {
     "data": {
      "application/vnd.jupyter.widget-view+json": {
       "model_id": "",
       "version_major": 2,
       "version_minor": 0
      },
      "text/plain": [
       "ru_hmao_pension_fund_2008:   0%|          | 0.00/2.52G [00:00<?, ?B/s]"
      ]
     },
     "metadata": {},
     "output_type": "display_data"
    },
    {
     "data": {
      "application/vnd.jupyter.widget-view+json": {
       "model_id": "",
       "version_major": 2,
       "version_minor": 0
      },
      "text/plain": [
       "ge_land_registry:   0%|          | 0.00/2.72G [00:00<?, ?B/s]"
      ]
     },
     "metadata": {},
     "output_type": "display_data"
    },
    {
     "data": {
      "application/vnd.jupyter.widget-view+json": {
       "model_id": "",
       "version_major": 2,
       "version_minor": 0
      },
      "text/plain": [
       "tr_ito_companies:   0%|          | 0.00/2.73G [00:00<?, ?B/s]"
      ]
     },
     "metadata": {},
     "output_type": "display_data"
    },
    {
     "data": {
      "application/vnd.jupyter.widget-view+json": {
       "model_id": "",
       "version_major": 2,
       "version_minor": 0
      },
      "text/plain": [
       "cz_companies:   0%|          | 0.00/3.14G [00:00<?, ?B/s]"
      ]
     },
     "metadata": {},
     "output_type": "display_data"
    },
    {
     "data": {
      "application/vnd.jupyter.widget-view+json": {
       "model_id": "",
       "version_major": 2,
       "version_minor": 0
      },
      "text/plain": [
       "ru_foreign_economic_activity_05_2014:   0%|          | 0.00/3.29G [00:00<?, ?B/s]"
      ]
     },
     "metadata": {},
     "output_type": "display_data"
    },
    {
     "data": {
      "application/vnd.jupyter.widget-view+json": {
       "model_id": "",
       "version_major": 2,
       "version_minor": 0
      },
      "text/plain": [
       "zz_worldcompliance:   0%|          | 0.00/3.81G [00:00<?, ?B/s]"
      ]
     },
     "metadata": {},
     "output_type": "display_data"
    },
    {
     "data": {
      "application/vnd.jupyter.widget-view+json": {
       "model_id": "",
       "version_major": 2,
       "version_minor": 0
      },
      "text/plain": [
       "sk_organizations:   0%|          | 0.00/3.91G [00:00<?, ?B/s]"
      ]
     },
     "metadata": {},
     "output_type": "display_data"
    },
    {
     "data": {
      "application/vnd.jupyter.widget-view+json": {
       "model_id": "",
       "version_major": 2,
       "version_minor": 0
      },
      "text/plain": [
       "ru_moscow_gibdd_2016_2018:   0%|          | 0.00/3.92G [00:00<?, ?B/s]"
      ]
     },
     "metadata": {},
     "output_type": "display_data"
    },
    {
     "data": {
      "application/vnd.jupyter.widget-view+json": {
       "model_id": "",
       "version_major": 2,
       "version_minor": 0
      },
      "text/plain": [
       "zz_worldcheck:   0%|          | 0.00/4.10G [00:00<?, ?B/s]"
      ]
     },
     "metadata": {},
     "output_type": "display_data"
    },
    {
     "data": {
      "application/vnd.jupyter.widget-view+json": {
       "model_id": "",
       "version_major": 2,
       "version_minor": 0
      },
      "text/plain": [
       "de_handelsregister_oc:   0%|          | 0.00/4.30G [00:00<?, ?B/s]"
      ]
     },
     "metadata": {},
     "output_type": "display_data"
    },
    {
     "data": {
      "application/vnd.jupyter.widget-view+json": {
       "model_id": "",
       "version_major": 2,
       "version_minor": 0
      },
      "text/plain": [
       "bg_census:   0%|          | 0.00/4.92G [00:00<?, ?B/s]"
      ]
     },
     "metadata": {},
     "output_type": "display_data"
    },
    {
     "data": {
      "application/vnd.jupyter.widget-view+json": {
       "model_id": "",
       "version_major": 2,
       "version_minor": 0
      },
      "text/plain": [
       "ru_saintpetersburg_rosreestr_2017:   0%|          | 0.00/5.05G [00:00<?, ?B/s]"
      ]
     },
     "metadata": {},
     "output_type": "display_data"
    },
    {
     "data": {
      "application/vnd.jupyter.widget-view+json": {
       "model_id": "",
       "version_major": 2,
       "version_minor": 0
      },
      "text/plain": [
       "de_handelsregister:   0%|          | 0.00/5.11G [00:00<?, ?B/s]"
      ]
     },
     "metadata": {},
     "output_type": "display_data"
    },
    {
     "data": {
      "application/vnd.jupyter.widget-view+json": {
       "model_id": "",
       "version_major": 2,
       "version_minor": 0
      },
      "text/plain": [
       "ua_foreign_economic_activity_03_2017:   0%|          | 0.00/6.17G [00:00<?, ?B/s]"
      ]
     },
     "metadata": {},
     "output_type": "display_data"
    },
    {
     "data": {
      "application/vnd.jupyter.widget-view+json": {
       "model_id": "",
       "version_major": 2,
       "version_minor": 0
      },
      "text/plain": [
       "za_cipc:   0%|          | 0.00/7.04G [00:00<?, ?B/s]"
      ]
     },
     "metadata": {},
     "output_type": "display_data"
    },
    {
     "data": {
      "application/vnd.jupyter.widget-view+json": {
       "model_id": "",
       "version_major": 2,
       "version_minor": 0
      },
      "text/plain": [
       "ru_foreign_economic_activity_2014:   0%|          | 0.00/7.06G [00:00<?, ?B/s]"
      ]
     },
     "metadata": {},
     "output_type": "display_data"
    },
    {
     "data": {
      "application/vnd.jupyter.widget-view+json": {
       "model_id": "",
       "version_major": 2,
       "version_minor": 0
      },
      "text/plain": [
       "ru_foreign_economic_activity_2012:   0%|          | 0.00/7.85G [00:00<?, ?B/s]"
      ]
     },
     "metadata": {},
     "output_type": "display_data"
    },
    {
     "data": {
      "application/vnd.jupyter.widget-view+json": {
       "model_id": "",
       "version_major": 2,
       "version_minor": 0
      },
      "text/plain": [
       "ru_foreign_economic_activity_2001:   0%|          | 0.00/9.17G [00:00<?, ?B/s]"
      ]
     },
     "metadata": {},
     "output_type": "display_data"
    },
    {
     "data": {
      "application/vnd.jupyter.widget-view+json": {
       "model_id": "",
       "version_major": 2,
       "version_minor": 0
      },
      "text/plain": [
       "lu_lbr_rcs:   0%|          | 0.00/9.48G [00:00<?, ?B/s]"
      ]
     },
     "metadata": {},
     "output_type": "display_data"
    },
    {
     "data": {
      "application/vnd.jupyter.widget-view+json": {
       "model_id": "",
       "version_major": 2,
       "version_minor": 0
      },
      "text/plain": [
       "ru_moscow_rosreestr_2016:   0%|          | 0.00/10.2G [00:00<?, ?B/s]"
      ]
     },
     "metadata": {},
     "output_type": "display_data"
    },
    {
     "data": {
      "application/vnd.jupyter.widget-view+json": {
       "model_id": "",
       "version_major": 2,
       "version_minor": 0
      },
      "text/plain": [
       "ru_taxes_2009_2015:   0%|          | 0.00/11.8G [00:00<?, ?B/s]"
      ]
     },
     "metadata": {},
     "output_type": "display_data"
    },
    {
     "data": {
      "application/vnd.jupyter.widget-view+json": {
       "model_id": "",
       "version_major": 2,
       "version_minor": 0
      },
      "text/plain": [
       "ru_foreign_economic_activity_04_2014:   0%|          | 0.00/14.3G [00:00<?, ?B/s]"
      ]
     },
     "metadata": {},
     "output_type": "display_data"
    },
    {
     "data": {
      "application/vnd.jupyter.widget-view+json": {
       "model_id": "",
       "version_major": 2,
       "version_minor": 0
      },
      "text/plain": [
       "ru_foreign_economic_activity_2015:   0%|          | 0.00/16.6G [00:00<?, ?B/s]"
      ]
     },
     "metadata": {},
     "output_type": "display_data"
    },
    {
     "data": {
      "application/vnd.jupyter.widget-view+json": {
       "model_id": "",
       "version_major": 2,
       "version_minor": 0
      },
      "text/plain": [
       "tr_mernis:   0%|          | 0.00/22.4G [00:00<?, ?B/s]"
      ]
     },
     "metadata": {},
     "output_type": "display_data"
    },
    {
     "data": {
      "application/vnd.jupyter.widget-view+json": {
       "model_id": "",
       "version_major": 2,
       "version_minor": 0
      },
      "text/plain": [
       "ru_foreign_economic_activity_2008:   0%|          | 0.00/31.3G [00:00<?, ?B/s]"
      ]
     },
     "metadata": {},
     "output_type": "display_data"
    },
    {
     "data": {
      "application/vnd.jupyter.widget-view+json": {
       "model_id": "",
       "version_major": 2,
       "version_minor": 0
      },
      "text/plain": [
       "ru_rospravosudie:   0%|          | 0.00/53.9G [00:00<?, ?B/s]"
      ]
     },
     "metadata": {},
     "output_type": "display_data"
    }
   ],
   "source": [
    "schema_counter = Counter()\n",
    "properties_counter = Counter()\n",
    "properties_cooccurrence_counter = Counter()\n",
    "\n",
    "for entity in data.entity_generator(data_exports):\n",
    "    if entity.get('properties'):\n",
    "        props = entity['properties'].keys()\n",
    "        schema_counter[entity['schema']] += 1\n",
    "        properties_counter.update(props)\n",
    "        properties_cooccurrence_counter.update(combinations(sorted(props), 2))"
   ]
  },
  {
   "cell_type": "code",
   "execution_count": 8,
   "id": "complimentary-replication",
   "metadata": {},
   "outputs": [
    {
     "data": {
      "text/plain": [
       "[(('address', 'name'), 125497095),\n",
       " (('country', 'name'), 85725420),\n",
       " (('firstName', 'lastName'), 81889582),\n",
       " (('lastName', 'name'), 81343620),\n",
       " (('firstName', 'name'), 81046322),\n",
       " (('birthDate', 'name'), 72424725),\n",
       " (('address', 'lastName'), 70095483),\n",
       " (('address', 'firstName'), 69799590),\n",
       " (('birthDate', 'lastName'), 69337815),\n",
       " (('birthDate', 'firstName'), 69334404),\n",
       " (('address', 'birthDate'), 68581182),\n",
       " (('idNumber', 'name'), 68570624),\n",
       " (('firstName', 'idNumber'), 62260218),\n",
       " (('idNumber', 'lastName'), 62259379),\n",
       " (('name', 'notes'), 61874485),\n",
       " (('address', 'notes'), 61589213),\n",
       " (('address', 'idNumber'), 60288519),\n",
       " (('ccdNumber', 'directionOfTransportation'), 59142333),\n",
       " (('ccdNumber', 'declarant'), 59134927),\n",
       " (('declarant', 'directionOfTransportation'), 59134927),\n",
       " (('ccdNumber', 'vedCode'), 58719235),\n",
       " (('directionOfTransportation', 'vedCode'), 58719234),\n",
       " (('declarant', 'vedCode'), 58711917),\n",
       " (('ccdNumber', 'receiver'), 58646567),\n",
       " (('directionOfTransportation', 'receiver'), 58646567),\n",
       " (('declarant', 'receiver'), 58640441),\n",
       " (('name', 'nationality'), 58346324),\n",
       " (('ccdNumber', 'goodsDescription'), 58262105),\n",
       " (('directionOfTransportation', 'goodsDescription'), 58262104),\n",
       " (('declarant', 'goodsDescription'), 58254874),\n",
       " (('ccdNumber', 'sender'), 58242935),\n",
       " (('directionOfTransportation', 'sender'), 58242935),\n",
       " (('receiver', 'vedCode'), 58241718),\n",
       " (('declarant', 'sender'), 58236308),\n",
       " (('goodsDescription', 'vedCode'), 58020134),\n",
       " (('receiver', 'sender'), 57870236),\n",
       " (('sender', 'vedCode'), 57833112),\n",
       " (('goodsDescription', 'receiver'), 57829749),\n",
       " (('birthDate', 'nationality'), 57767950),\n",
       " (('lastName', 'nationality'), 57480461),\n",
       " (('goodsDescription', 'sender'), 57430950),\n",
       " (('firstName', 'nationality'), 57177933),\n",
       " (('birthDate', 'idNumber'), 57035630),\n",
       " (('idNumber', 'nationality'), 56969068),\n",
       " (('gender', 'name'), 56734400),\n",
       " (('address', 'nationality'), 56673754),\n",
       " (('ccdNumber', 'invoiceAmount'), 56424617),\n",
       " (('directionOfTransportation', 'invoiceAmount'), 56424616),\n",
       " (('goodsDescription', 'invoiceAmount'), 56424560),\n",
       " (('declarant', 'invoiceAmount'), 56417376),\n",
       " (('invoiceAmount', 'vedCode'), 56182638),\n",
       " (('invoiceAmount', 'receiver'), 55992382),\n",
       " (('ccdNumber', 'vedCodeDescription'), 55719336),\n",
       " (('vedCode', 'vedCodeDescription'), 55719336),\n",
       " (('directionOfTransportation', 'vedCodeDescription'), 55719335),\n",
       " (('declarant', 'vedCodeDescription'), 55712037),\n",
       " (('invoiceAmount', 'sender'), 55633737),\n",
       " (('receiver', 'vedCodeDescription'), 55246665),\n",
       " (('goodsDescription', 'vedCodeDescription'), 55020239),\n",
       " (('sender', 'vedCodeDescription'), 54852907),\n",
       " (('ccdNumber', 'customsAmount'), 53910762),\n",
       " (('customsAmount', 'directionOfTransportation'), 53910761),\n",
       " (('customsAmount', 'declarant'), 53903436),\n",
       " (('ccdNumber', 'customsProcedure'), 53894974),\n",
       " (('customsProcedure', 'directionOfTransportation'), 53894974),\n",
       " (('customsProcedure', 'declarant'), 53892885),\n",
       " (('customsAmount', 'vedCode'), 53668784),\n",
       " (('customsAmount', 'vedCodeDescription'), 53668734),\n",
       " (('customsProcedure', 'vedCode'), 53471893),\n",
       " (('customsAmount', 'receiver'), 53441883),\n",
       " (('customsProcedure', 'receiver'), 53403281),\n",
       " (('customsAmount', 'invoiceAmount'), 53211699),\n",
       " (('customsAmount', 'goodsDescription'), 53211649),\n",
       " (('invoiceAmount', 'vedCodeDescription'), 53189413),\n",
       " (('customsAmount', 'sender'), 53084631),\n",
       " (('customsProcedure', 'sender'), 53056815),\n",
       " (('customsProcedure', 'goodsDescription'), 53014781),\n",
       " (('customsProcedure', 'invoiceAmount'), 53008120),\n",
       " (('birthDate', 'gender'), 52924249),\n",
       " (('birthPlace', 'name'), 52723511),\n",
       " (('address', 'gender'), 52196309),\n",
       " (('birthPlace', 'gender'), 52184911),\n",
       " (('gender', 'lastName'), 51894476),\n",
       " (('gender', 'idNumber'), 51824971),\n",
       " (('firstName', 'gender'), 51657594),\n",
       " (('birthPlace', 'idNumber'), 51201558),\n",
       " (('birthDate', 'birthPlace'), 50973967),\n",
       " (('idNumber', 'notes'), 50774304),\n",
       " (('customsAmount', 'customsProcedure'), 50713987),\n",
       " (('gender', 'nationality'), 50598083),\n",
       " (('customsProcedure', 'vedCodeDescription'), 50472009),\n",
       " (('birthPlace', 'nationality'), 50397117),\n",
       " (('address', 'birthPlace'), 50178451),\n",
       " (('birthPlace', 'lastName'), 50111003),\n",
       " (('birthPlace', 'firstName'), 50108961),\n",
       " (('firstName', 'notes'), 49614458),\n",
       " (('lastName', 'notes'), 49614132),\n",
       " (('nationality', 'notes'), 49613874),\n",
       " (('fatherName', 'firstName'), 49613618),\n",
       " (('fatherName', 'name'), 49613618),\n",
       " (('birthPlace', 'notes'), 49613551),\n",
       " (('fatherName', 'lastName'), 49613294),\n",
       " (('birthPlace', 'fatherName'), 49612658),\n",
       " (('fatherName', 'notes'), 49612407),\n",
       " (('fatherName', 'nationality'), 49612206),\n",
       " (('address', 'fatherName'), 49611959),\n",
       " (('fatherName', 'idNumber'), 49611958),\n",
       " (('address', 'motherName'), 49611709),\n",
       " (('birthPlace', 'motherName'), 49611709),\n",
       " (('fatherName', 'gender'), 49611709),\n",
       " (('fatherName', 'motherName'), 49611709),\n",
       " (('firstName', 'motherName'), 49611709),\n",
       " (('gender', 'motherName'), 49611709),\n",
       " (('gender', 'notes'), 49611709),\n",
       " (('idNumber', 'motherName'), 49611709),\n",
       " (('lastName', 'motherName'), 49611709),\n",
       " (('motherName', 'name'), 49611709),\n",
       " (('motherName', 'nationality'), 49611709),\n",
       " (('motherName', 'notes'), 49611709),\n",
       " (('birthDate', 'notes'), 49543460),\n",
       " (('birthDate', 'fatherName'), 49542725),\n",
       " (('birthDate', 'motherName'), 49540971),\n",
       " (('ccdNumber', 'tradingCountry'), 46014605),\n",
       " (('directionOfTransportation', 'tradingCountry'), 46014605),\n",
       " (('declarant', 'tradingCountry'), 46014294),\n",
       " (('receiver', 'tradingCountry'), 45934345),\n",
       " (('goodsDescription', 'tradingCountry'), 45923195),\n",
       " (('sender', 'tradingCountry'), 45888191),\n",
       " (('tradingCountry', 'vedCode'), 45751703),\n",
       " (('tradingCountry', 'vedCodeDescription'), 45092800),\n",
       " (('invoiceAmount', 'tradingCountry'), 44129790),\n",
       " (('customsAmount', 'tradingCountry'), 43330699),\n",
       " (('customsProcedure', 'tradingCountry'), 43328543),\n",
       " (('ccdNumber', 'departureCountry'), 41940122),\n",
       " (('departureCountry', 'directionOfTransportation'), 41940122),\n",
       " (('declarant', 'departureCountry'), 41939232),\n",
       " (('departureCountry', 'invoiceAmount'), 41782147),\n",
       " (('departureCountry', 'goodsDescription'), 41782137),\n",
       " (('departureCountry', 'vedCode'), 41770847),\n",
       " (('departureCountry', 'vedCodeDescription'), 41770833),\n",
       " (('departureCountry', 'receiver'), 41617121),\n",
       " (('departureCountry', 'sender'), 41575201),\n",
       " (('customsAmount', 'departureCountry'), 41562407),\n",
       " (('customsProcedure', 'departureCountry'), 40957284),\n",
       " (('ccdNumber', 'ccdValue'), 40712267),\n",
       " (('ccdValue', 'directionOfTransportation'), 40712267),\n",
       " (('ccdValue', 'declarant'), 40705093),\n",
       " (('ccdValue', 'invoiceAmount'), 40531160),\n",
       " (('ccdValue', 'goodsDescription'), 40531106),\n",
       " (('ccdValue', 'vedCode'), 40289294),\n",
       " (('ccdValue', 'receiver'), 40287912),\n",
       " (('ccdValue', 'customsProcedure'), 40083296),\n",
       " (('ccdValue', 'sender'), 39968207),\n",
       " (('date', 'role'), 38808780),\n",
       " (('departureCountry', 'tradingCountry'), 37736835),\n",
       " (('ccdValue', 'customsAmount'), 37320181),\n",
       " (('ccdValue', 'vedCodeDescription'), 37298005),\n",
       " (('ccdNumber', 'originCountry'), 36225000),\n",
       " (('directionOfTransportation', 'originCountry'), 36225000),\n",
       " (('goodsDescription', 'originCountry'), 36224982),\n",
       " (('declarant', 'originCountry'), 36223551),\n",
       " (('originCountry', 'vedCode'), 36132049),\n",
       " (('name', 'status'), 35984338),\n",
       " (('originCountry', 'sender'), 35891548),\n",
       " (('originCountry', 'receiver'), 35877191),\n",
       " (('country', 'type'), 35449122),\n",
       " (('name', 'type'), 35271112),\n",
       " (('invoiceAmount', 'originCountry'), 34988025),\n",
       " (('namesMentioned', 'organization'), 33617746),\n",
       " (('case', 'role'), 33394940),\n",
       " (('case', 'party'), 33336910),\n",
       " (('party', 'role'), 33336910),\n",
       " (('country', 'court'), 33331314),\n",
       " (('court', 'type'), 33331314),\n",
       " (('court', 'name'), 33312114),\n",
       " (('originCountry', 'vedCodeDescription'), 33294655),\n",
       " (('case', 'date'), 33254847),\n",
       " (('country', 'fileDate'), 33254847),\n",
       " (('court', 'fileDate'), 33254846),\n",
       " (('fileDate', 'name'), 33254846),\n",
       " (('fileDate', 'type'), 33254846),\n",
       " (('date', 'party'), 33196817),\n",
       " (('customsProcedure', 'originCountry'), 32875383),\n",
       " (('address', 'country'), 32588889),\n",
       " (('ccdValue', 'tradingCountry'), 32321967),\n",
       " (('customsAmount', 'originCountry'), 31984833),\n",
       " (('namesMentioned', 'role'), 31484227),\n",
       " (('ccdValue', 'departureCountry'), 30255613),\n",
       " (('originCountry', 'tradingCountry'), 29110700),\n",
       " (('name', 'registrationNumber'), 29106672),\n",
       " (('director', 'organization'), 27182845),\n",
       " (('departureCountry', 'originCountry'), 26884350),\n",
       " (('country', 'sourceUrl'), 26800238),\n",
       " (('name', 'sourceUrl'), 26749220),\n",
       " (('organization', 'role'), 26103477),\n",
       " (('category', 'country'), 25807284),\n",
       " (('category', 'type'), 25807284),\n",
       " (('category', 'court'), 25807278),\n",
       " (('category', 'name'), 25788083),\n",
       " (('category', 'fileDate'), 25730815),\n",
       " (('director', 'role'), 24991913),\n",
       " (('country', 'status'), 24546977),\n",
       " (('director', 'namesMentioned'), 24543813),\n",
       " (('ccdNumber', 'date'), 24073851),\n",
       " (('date', 'directionOfTransportation'), 24073851),\n",
       " (('date', 'goodsDescription'), 24073841),\n",
       " (('date', 'declarant'), 24073831),\n",
       " (('date', 'vedCode'), 24073728),\n",
       " (('date', 'receiver'), 24065108),\n",
       " (('date', 'sender'), 23867939),\n",
       " (('ccdNumber', 'destinationCountry'), 23401249),\n",
       " (('destinationCountry', 'directionOfTransportation'), 23401249),\n",
       " (('declarant', 'destinationCountry'), 23400631),\n",
       " (('destinationCountry', 'receiver'), 23359806),\n",
       " (('cadastralCode', 'name'), 23219457),\n",
       " (('destinationCountry', 'vedCode'), 23185164),\n",
       " (('destinationCountry', 'sender'), 23177891),\n",
       " (('destinationCountry', 'goodsDescription'), 22907389),\n",
       " (('destinationCountry', 'tradingCountry'), 22601509),\n",
       " (('destinationCountry', 'vedCodeDescription'), 22538496),\n",
       " (('area', 'name'), 22309737),\n",
       " (('date', 'invoiceAmount'), 22236302),\n",
       " (('customsProcedure', 'date'), 21968796),\n",
       " (('date', 'tradingCountry'), 21455151),\n",
       " (('destinationCountry', 'invoiceAmount'), 21076508),\n",
       " (('date', 'vedCodeDescription'), 21073882),\n",
       " (('ccdValue', 'originCountry'), 20963030),\n",
       " (('customsProcedure', 'destinationCountry'), 20962432),\n",
       " (('customsAmount', 'destinationCountry'), 20716518),\n",
       " (('date', 'originCountry'), 20481231),\n",
       " (('area', 'cadastralCode'), 19682106),\n",
       " (('address', 'registrationNumber'), 19582373),\n",
       " (('namesMentioned', 'startDate'), 19225135),\n",
       " (('sourceUrl', 'type'), 19144038),\n",
       " (('customsAmount', 'date'), 19023394),\n",
       " (('court', 'sourceUrl'), 18449518),\n",
       " (('fileDate', 'sourceUrl'), 18373050),\n",
       " (('name', 'propertyType'), 18352408),\n",
       " (('address', 'cadastralCode'), 18230910),\n",
       " (('country', 'registrationNumber'), 18105774),\n",
       " (('createDate', 'name'), 17974630),\n",
       " (('date', 'departureCountry'), 17843693),\n",
       " (('date', 'destinationCountry'), 17820589),\n",
       " (('category', 'sourceUrl'), 17754239),\n",
       " (('address', 'area'), 17271702),\n",
       " (('area', 'propertyType'), 17106365),\n",
       " (('cadastralCode', 'createDate'), 16992166),\n",
       " (('departureCountry', 'destinationCountry'), 16319508),\n",
       " (('destinationCountry', 'originCountry'), 16238276),\n",
       " (('address', 'propertyType'), 15720095),\n",
       " (('cadastralCode', 'propertyType'), 15650067),\n",
       " (('organization', 'startDate'), 14877584),\n",
       " (('status', 'type'), 14796259),\n",
       " (('court', 'status'), 14796243),\n",
       " (('fileDate', 'status'), 14777043),\n",
       " (('middleName', 'name'), 14722506),\n",
       " (('lastName', 'middleName'), 14720610),\n",
       " (('area', 'createDate'), 14566356),\n",
       " (('firstName', 'middleName'), 14479910),\n",
       " (('ccdValue', 'destinationCountry'), 13676761),\n",
       " (('amount', 'currency'), 13019775),\n",
       " (('name', 'tenure'), 12712947),\n",
       " (('area', 'tenure'), 12624941),\n",
       " (('director', 'startDate'), 12548367),\n",
       " (('propertyType', 'tenure'), 12470000),\n",
       " (('asset', 'owner'), 12404199),\n",
       " (('registrationNumber', 'status'), 12355254),\n",
       " (('asset', 'namesMentioned'), 12340184),\n",
       " (('namesMentioned', 'owner'), 12298551),\n",
       " (('address', 'createDate'), 12251852),\n",
       " (('createDate', 'propertyType'), 12150687),\n",
       " (('ccdValue', 'date'), 12024739),\n",
       " (('innCode', 'name'), 11847079),\n",
       " (('amount', 'name'), 11529675),\n",
       " (('birthDate', 'middleName'), 11253640),\n",
       " (('role', 'startDate'), 10929103),\n",
       " (('address', 'middleName'), 10917977),\n",
       " (('amount', 'area'), 10679774),\n",
       " (('endDate', 'startDate'), 10540710),\n",
       " (('idNumber', 'status'), 10529454),\n",
       " (('address', 'tenure'), 10514686),\n",
       " (('cadastralCode', 'tenure'), 10488247),\n",
       " (('currency', 'name'), 10436179),\n",
       " (('address', 'status'), 10341073),\n",
       " (('area', 'currency'), 10308219),\n",
       " (('cadastralCode', 'currency'), 10304925),\n",
       " (('amount', 'cadastralCode'), 10304564),\n",
       " (('amount', 'createDate'), 10250123),\n",
       " (('area', 'country'), 10220396),\n",
       " (('sourceUrl', 'status'), 10213466),\n",
       " (('cadastralCode', 'country'), 10198728),\n",
       " (('createDate', 'currency'), 10056953),\n",
       " (('endDate', 'namesMentioned'), 10039175),\n",
       " (('date', 'namesMentioned'), 10005793),\n",
       " (('country', 'lastName'), 9791995),\n",
       " (('country', 'firstName'), 9781879),\n",
       " (('idNumber', 'middleName'), 9691608),\n",
       " (('country', 'innCode'), 9437724),\n",
       " (('jurisdiction', 'name'), 9411616),\n",
       " (('member', 'organization'), 9146477),\n",
       " (('member', 'namesMentioned'), 9073933),\n",
       " (('endDate', 'organization'), 8964685),\n",
       " (('address', 'jurisdiction'), 8761409),\n",
       " (('address', 'innCode'), 8699927),\n",
       " (('bankAccount', 'ccdNumber'), 8690768),\n",
       " (('bankAccount', 'customsProcedure'), 8690768),\n",
       " (('bankAccount', 'directionOfTransportation'), 8690768),\n",
       " (('bankAccount', 'declarant'), 8690658),\n",
       " (('bankAccount', 'customsAmount'), 8540533),\n",
       " (('bankAccount', 'vedCode'), 8540530),\n",
       " (('bankAccount', 'vedCodeDescription'), 8540514),\n",
       " (('incorporationDate', 'name'), 8491355),\n",
       " (('jurisdiction', 'registrationNumber'), 8442533),\n",
       " (('country', 'createDate'), 8439359),\n",
       " (('bankAccount', 'receiver'), 8380783),\n",
       " (('area', 'notes'), 8334987),\n",
       " (('bankAccount', 'sender'), 8296989),\n",
       " (('caseNumber', 'country'), 8276843),\n",
       " (('caseNumber', 'sourceUrl'), 8276843),\n",
       " (('caseNumber', 'type'), 8276843),\n",
       " (('caseNumber', 'court'), 8276827),\n",
       " (('caseNumber', 'category'), 8274649),\n",
       " (('cadastralCode', 'notes'), 8269981),\n",
       " (('caseNumber', 'name'), 8257627),\n",
       " (('caseNumber', 'fileDate'), 8208088),\n",
       " (('notes', 'tenure'), 8187290),\n",
       " (('notes', 'propertyType'), 8113020),\n",
       " (('address', 'amount'), 8042917),\n",
       " (('country', 'propertyType'), 7981773),\n",
       " (('address', 'currency'), 7850108),\n",
       " (('bankAccount', 'invoiceAmount'), 7841473),\n",
       " (('bankAccount', 'goodsDescription'), 7841466),\n",
       " (('address', 'incorporationDate'), 7762370),\n",
       " (('legalForm', 'name'), 7744294),\n",
       " (('bankAccount', 'ccdValue'), 7724433),\n",
       " (('middleName', 'nationality'), 7704521),\n",
       " (('address', 'legalForm'), 7680383),\n",
       " (('category', 'status'), 7602714),\n",
       " (('legalForm', 'registrationNumber'), 7470161),\n",
       " (('jurisdiction', 'status'), 7417769),\n",
       " (('amount', 'country'), 7378605),\n",
       " (('incorporationDate', 'status'), 7371104),\n",
       " (('name', 'passportNumber'), 7341717),\n",
       " (('firstName', 'passportNumber'), 7341707),\n",
       " (('lastName', 'passportNumber'), 7340717),\n",
       " (('idNumber', 'passportNumber'), 7326396),\n",
       " (('birthDate', 'passportNumber'), 7314219),\n",
       " (('currency', 'namesMentioned'), 7286074),\n",
       " (('country', 'currency'), 7281843),\n",
       " (('nationality', 'passportNumber'), 7276192),\n",
       " (('middleName', 'passportNumber'), 7275074),\n",
       " (('beneficiary', 'currency'), 7241689),\n",
       " (('amount', 'propertyType'), 7184799),\n",
       " (('currency', 'payer'), 7171496),\n",
       " (('beneficiary', 'payer'), 7151583),\n",
       " (('createDate', 'tenure'), 7147773),\n",
       " (('namesMentioned', 'payer'), 7018499),\n",
       " (('beneficiary', 'namesMentioned'), 7000726),\n",
       " (('currency', 'propertyType'), 6991990),\n",
       " (('ccdNumber', 'contract'), 6974532),\n",
       " (('contract', 'customsProcedure'), 6974532),\n",
       " (('contract', 'directionOfTransportation'), 6974532),\n",
       " (('contract', 'declarant'), 6973298),\n",
       " (('classification', 'name'), 6969861),\n",
       " (('birthDate', 'country'), 6903047),\n",
       " (('ccdNumber', 'contractHolder'), 6837301),\n",
       " (('contract', 'contractHolder'), 6837301),\n",
       " (('contractHolder', 'customsProcedure'), 6837301),\n",
       " (('contractHolder', 'directionOfTransportation'), 6837301),\n",
       " (('contractHolder', 'declarant'), 6837229),\n",
       " (('contract', 'customsAmount'), 6793425),\n",
       " (('contract', 'vedCode'), 6793320),\n",
       " (('contract', 'vedCodeDescription'), 6793320),\n",
       " (('director', 'endDate'), 6762057),\n",
       " (('address', 'passportNumber'), 6674485),\n",
       " (('contractHolder', 'customsAmount'), 6663051),\n",
       " (('contractHolder', 'vedCode'), 6662946),\n",
       " (('contractHolder', 'vedCodeDescription'), 6662946),\n",
       " (('asset', 'percentage'), 6598153),\n",
       " (('owner', 'percentage'), 6598153),\n",
       " (('namesMentioned', 'percentage'), 6598069),\n",
       " (('contract', 'receiver'), 6489133),\n",
       " (('contractHolder', 'receiver'), 6471334),\n",
       " (('incorporationDate', 'jurisdiction'), 6451947),\n",
       " (('incorporationDate', 'registrationNumber'), 6412097),\n",
       " (('contract', 'sender'), 6380623),\n",
       " (('contractHolder', 'sender'), 6358587),\n",
       " (('contractDate', 'name'), 6261642),\n",
       " (('endDate', 'role'), 6211508),\n",
       " (('contract', 'invoiceAmount'), 6094365),\n",
       " (('contract', 'goodsDescription'), 6094357),\n",
       " (('bankAccount', 'departureCountry'), 6091552),\n",
       " (('classification', 'country'), 6000398),\n",
       " (('contractHolder', 'invoiceAmount'), 5970641),\n",
       " (('contractHolder', 'goodsDescription'), 5970634),\n",
       " (('ccdNumber', 'dollarExchRate'), 5947011),\n",
       " (('ccdValue', 'contract'), 5947011),\n",
       " (('ccdValue', 'dollarExchRate'), 5947011),\n",
       " (('contract', 'dollarExchRate'), 5947011),\n",
       " (('customsProcedure', 'dollarExchRate'), 5947011),\n",
       " (('directionOfTransportation', 'dollarExchRate'), 5947011),\n",
       " (('declarant', 'dollarExchRate'), 5945993),\n",
       " (('alias', 'name'), 5893250),\n",
       " (('bankAccount', 'contract'), 5853886),\n",
       " (('bankAccount', 'contractHolder'), 5847211),\n",
       " (('ccdValue', 'contractHolder'), 5825737),\n",
       " (('contractHolder', 'dollarExchRate'), 5825737),\n",
       " (('customsAmount', 'dollarExchRate'), 5765904),\n",
       " (('dollarExchRate', 'invoiceAmount'), 5765904),\n",
       " (('dollarExchRate', 'goodsDescription'), 5765896),\n",
       " (('dollarExchRate', 'vedCode'), 5765800),\n",
       " (('dollarExchRate', 'vedCodeDescription'), 5765800),\n",
       " (('dollarExchRate', 'receiver'), 5532888),\n",
       " (('dollarExchRate', 'sender'), 5434997),\n",
       " (('name', 'noticeId'), 5391254),\n",
       " (('name', 'summary'), 5322530),\n",
       " (('country', 'summary'), 5306958),\n",
       " (('object', 'subject'), 5289208),\n",
       " (('object', 'role'), 5262920),\n",
       " (('role', 'subject'), 5262920),\n",
       " (('alias', 'country'), 5153754),\n",
       " (('country', 'owner'), 5144446),\n",
       " (('name', 'owner'), 5144446),\n",
       " (('owner', 'registrationNumber'), 5144438),\n",
       " (('country', 'model'), 5067849),\n",
       " (('model', 'name'), 5067849),\n",
       " (('model', 'owner'), 5067849),\n",
       " (('model', 'registrationNumber'), 5067841),\n",
       " (('lastName', 'status'), 5009110),\n",
       " (('firstName', 'status'), 5008129),\n",
       " (('contractDate', 'noticeId'), 5007019),\n",
       " (('country', 'notes'), 4927277),\n",
       " (('bankAccount', 'dollarExchRate'), 4887551),\n",
       " (('namesMentioned', 'object'), 4798705),\n",
       " (('namesMentioned', 'subject'), 4798705),\n",
       " (('sourceUrl', 'summary'), 4484519),\n",
       " (('lastName', 'sourceUrl'), 4470854),\n",
       " (('firstName', 'sourceUrl'), 4459766),\n",
       " (('legalForm', 'status'), 4428817),\n",
       " (('incorporationDate', 'legalForm'), 4341425),\n",
       " (('name', 'position'), 4319257),\n",
       " (('jurisdiction', 'legalForm'), 4288202),\n",
       " (('contract', 'departureCountry'), 4249700),\n",
       " (('amount', 'notes'), 4189717),\n",
       " (('contractHolder', 'departureCountry'), 4169562),\n",
       " (('createDate', 'notes'), 4127394),\n",
       " (('currency', 'notes'), 4127394),\n",
       " (('amount', 'tenure'), 4086070),\n",
       " (('country', 'tenure'), 4086070),\n",
       " (('currency', 'tenure'), 4086070),\n",
       " (('address', 'mainCountry'), 4047076),\n",
       " (('country', 'mainCountry'), 4047076),\n",
       " (('mainCountry', 'name'), 4047075),\n",
       " (('departureCountry', 'dollarExchRate'), 4033987),\n",
       " (('alias', 'gender'), 3998734),\n",
       " (('country', 'gender'), 3995607),\n",
       " (('date', 'organization'), 3938083),\n",
       " (('holder', 'passportNumber'), 3850275),\n",
       " (('holder', 'namesMentioned'), 3848973),\n",
       " (('namesMentioned', 'passportNumber'), 3848973),\n",
       " (('asset', 'ownershipType'), 3828661),\n",
       " (('owner', 'ownershipType'), 3828661),\n",
       " (('namesMentioned', 'ownershipType'), 3828659),\n",
       " (('notes', 'registrationNumber'), 3822870),\n",
       " (('date', 'director'), 3760973),\n",
       " (('jurisdiction', 'notes'), 3758606),\n",
       " (('ownershipType', 'percentage'), 3716227),\n",
       " (('name', 'okpoCode'), 3698358),\n",
       " (('mainCountry', 'registrationNumber'), 3690055),\n",
       " (('lastName', 'summary'), 3680776),\n",
       " (('firstName', 'summary'), 3676250),\n",
       " (('innCode', 'okpoCode'), 3672377),\n",
       " (('notes', 'status'), 3649926),\n",
       " (('buildDate', 'country'), 3625360),\n",
       " (('buildDate', 'name'), 3625360),\n",
       " (('buildDate', 'owner'), 3625360),\n",
       " (('buildDate', 'registrationNumber'), 3625357),\n",
       " (('idNumber', 'registrationNumber'), 3621447),\n",
       " (('entity', 'program'), 3608352),\n",
       " (('authority', 'program'), 3607941),\n",
       " (('authority', 'entity'), 3606460),\n",
       " (('buildDate', 'model'), 3548951),\n",
       " (('bankAccount', 'originCountry'), 3541783),\n",
       " (('bankAccount', 'tradingCountry'), 3472357),\n",
       " (('createDate', 'registrationNumber'), 3450603),\n",
       " (('idNumber', 'jurisdiction'), 3446133),\n",
       " (('idNumber', 'legalForm'), 3407699),\n",
       " (('cadastralCode', 'registrationNumber'), 3406463),\n",
       " (('idNumber', 'incorporationDate'), 3403274),\n",
       " (('propertyType', 'registrationNumber'), 3377164),\n",
       " (('area', 'registrationNumber'), 3376360),\n",
       " (('country', 'okpoCode'), 3262918),\n",
       " (('incorporationDate', 'notes'), 3200442),\n",
       " (('program', 'status'), 3125998),\n",
       " (('detectedSchema', 'document'), 3070240),\n",
       " (('detectedSchema', 'name'), 3070240),\n",
       " (('detectedSchema', 'resolved'), 3070240),\n",
       " (('document', 'name'), 3070240),\n",
       " (('document', 'resolved'), 3070240),\n",
       " (('name', 'resolved'), 3070240),\n",
       " (('classification', 'innCode'), 3026529),\n",
       " (('alias', 'classification'), 2938978),\n",
       " (('alias', 'status'), 2917636),\n",
       " (('authority', 'sourceUrl'), 2840111),\n",
       " (('alias', 'position'), 2786544),\n",
       " (('gender', 'position'), 2786366),\n",
       " (('country', 'position'), 2781504),\n",
       " (('country', 'program'), 2721703),\n",
       " (('asset', 'date'), 2667205),\n",
       " (('date', 'owner'), 2667205),\n",
       " (('date', 'percentage'), 2667066),\n",
       " (('classification', 'okpoCode'), 2661970),\n",
       " (('country', 'incorporationDate'), 2596932),\n",
       " (('alias', 'sourceUrl'), 2559749),\n",
       " (('name', 'publisher'), 2539513),\n",
       " (('publisher', 'sourceUrl'), 2524108),\n",
       " (('date', 'ownershipType'), 2504667),\n",
       " (('alias', 'summary'), 2497859),\n",
       " (('classification', 'sourceUrl'), 2489964),\n",
       " (('amount', 'namesMentioned'), 2477614),\n",
       " (('country', 'idNumber'), 2447759),\n",
       " (('alias', 'idNumber'), 2434481),\n",
       " (('entity', 'reason'), 2432475),\n",
       " (('program', 'reason'), 2432475),\n",
       " (('authority', 'reason'), 2430583),\n",
       " (('encumbrance', 'name'), 2429038),\n",
       " (('address', 'encumbrance'), 2429024),\n",
       " (('cadastralCode', 'encumbrance'), 2421305),\n",
       " (('program', 'sourceUrl'), 2415409),\n",
       " (('entity', 'sourceUrl'), 2413928),\n",
       " (('reason', 'sourceUrl'), 2413577),\n",
       " (('country', 'publisher'), 2402716),\n",
       " (('area', 'encumbrance'), 2360748),\n",
       " (('lastName', 'publisher'), 2355271),\n",
       " (('contract', 'originCountry'), 2347480),\n",
       " (('firstName', 'publisher'), 2345423),\n",
       " (('middleName', 'status'), 2334908),\n",
       " (('address', 'classification'), 2333363),\n",
       " (('asset', 'role'), 2333355),\n",
       " (('owner', 'role'), 2333355),\n",
       " (('encumbrance', 'tenure'), 2329912),\n",
       " (('member', 'startDate'), 2329218),\n",
       " (('asset', 'startDate'), 2304468),\n",
       " (('owner', 'startDate'), 2304468),\n",
       " (('keywords', 'sourceUrl'), 2278760),\n",
       " (('keywords', 'name'), 2268816),\n",
       " (('keywords', 'summary'), 2268752),\n",
       " (('encumbrance', 'propertyType'), 2265163),\n",
       " (('contractHolder', 'originCountry'), 2254409),\n",
       " (('classification', 'summary'), 2248124),\n",
       " (('country', 'keywords'), 2247681),\n",
       " (('alias', 'keywords'), 2245687),\n",
       " (('classification', 'keywords'), 2245687),\n",
       " (('document', 'index'), 2223830),\n",
       " (('bankAccount', 'destinationCountry'), 2215440),\n",
       " (('bodyText', 'document'), 2213381),\n",
       " (('bodyText', 'index'), 2213381),\n",
       " (('dollarExchRate', 'originCountry'), 2205407),\n",
       " (('endDate', 'member'), 2202628),\n",
       " (('modifiedAt', 'sourceUrl'), 2200706),\n",
       " (('person', 'relationship'), 2200248),\n",
       " (('description', 'name'), 2191215),\n",
       " (('idNumber', 'position'), 2108091),\n",
       " (('namesMentioned', 'recordId'), 2107932),\n",
       " (('birthPlace', 'country'), 2103346),\n",
       " (('modifiedAt', 'name'), 2085821),\n",
       " (('modifiedAt', 'publisher'), 2079344),\n",
       " (('country', 'modifiedAt'), 2065835),\n",
       " (('alias', 'lastName'), 2044401),\n",
       " (('alias', 'firstName'), 2043954),\n",
       " (('classification', 'gender'), 2042003),\n",
       " (('classification', 'lastName'), 2042003),\n",
       " (('gender', 'summary'), 2042002),\n",
       " (('gender', 'sourceUrl'), 2041800),\n",
       " (('classification', 'firstName'), 2040775),\n",
       " (('gender', 'keywords'), 2039902),\n",
       " (('keywords', 'lastName'), 2039902),\n",
       " (('firstName', 'keywords'), 2038679),\n",
       " (('country', 'legalForm'), 2038477),\n",
       " (('document', 'entity'), 1985035),\n",
       " (('classification', 'registrationNumber'), 1982254),\n",
       " (('ipoCode', 'name'), 1976088),\n",
       " (('holder', 'startDate'), 1975758),\n",
       " (('passportNumber', 'startDate'), 1975758),\n",
       " (('address', 'ipoCode'), 1972870),\n",
       " (('address', 'alias'), 1969321),\n",
       " (('gender', 'status'), 1956731),\n",
       " (('position', 'status'), 1956635),\n",
       " (('alias', 'program'), 1956340),\n",
       " (('gender', 'program'), 1956340),\n",
       " (('name', 'program'), 1956304),\n",
       " (('position', 'program'), 1956244),\n",
       " (('lastName', 'modifiedAt'), 1940392),\n",
       " (('idNumber', 'program'), 1935268),\n",
       " (('firstName', 'modifiedAt'), 1934143),\n",
       " (('name', 'sector'), 1882816),\n",
       " (('address', 'sector'), 1881089),\n",
       " (('registrationNumber', 'tenure'), 1871412),\n",
       " (('innCode', 'status'), 1864952),\n",
       " (('amount', 'beneficiary'), 1842133),\n",
       " (('jurisdiction', 'sector'), 1832393),\n",
       " (('country', 'jurisdiction'), 1785262),\n",
       " (('ipoCode', 'legalForm'), 1780992),\n",
       " (('ipoCode', 'registrationNumber'), 1780986),\n",
       " (('amount', 'payer'), 1771940),\n",
       " (('endDate', 'recordId'), 1771064),\n",
       " (('recordId', 'startDate'), 1770357),\n",
       " (('publisher', 'summary'), 1766284),\n",
       " (('encumbrance', 'notes'), 1737939),\n",
       " (('capital', 'name'), 1727069),\n",
       " (('address', 'sourceUrl'), 1725276),\n",
       " (('registrationNumber', 'sector'), 1723320),\n",
       " (('authority', 'namesMentioned'), 1720178),\n",
       " (('namesMentioned', 'sourceUrl'), 1710787),\n",
       " (('member', 'recordId'), 1704829),\n",
       " (('organization', 'recordId'), 1704829),\n",
       " (('namesMentioned', 'summary'), 1675992),\n",
       " (('firstName', 'position'), 1658687),\n",
       " (('lastName', 'position'), 1655606),\n",
       " (('classification', 'jurisdiction'), 1631735),\n",
       " (('country', 'description'), 1618151),\n",
       " (('country', 'middleName'), 1610571),\n",
       " (('alias', 'birthPlace'), 1608100),\n",
       " (('birthPlace', 'status'), 1607223),\n",
       " (('birthPlace', 'position'), 1606983),\n",
       " (('birthPlace', 'program'), 1606009),\n",
       " (('area', 'landType'), 1600207),\n",
       " (('cadastralCode', 'landType'), 1600207),\n",
       " (('createDate', 'landType'), 1600207),\n",
       " (('landType', 'name'), 1600207),\n",
       " (('landType', 'propertyType'), 1599307),\n",
       " (('capital', 'jurisdiction'), 1595523),\n",
       " (('address', 'landType'), 1595491),\n",
       " (('address', 'summary'), 1590583),\n",
       " (('namesMentioned', 'status'), 1572767),\n",
       " (('date', 'startDate'), 1570568),\n",
       " (('createDate', 'encumbrance'), 1559513),\n",
       " (('sourceUrl', 'title'), 1558965),\n",
       " (('incorporationDate', 'innCode'), 1555078),\n",
       " (('authority', 'startDate'), 1535763),\n",
       " (('holder', 'type'), 1534615),\n",
       " (('passportNumber', 'type'), 1534598),\n",
       " (('namesMentioned', 'type'), 1533296),\n",
       " (('asset', 'sharesCurrency'), 1529531),\n",
       " (('owner', 'sharesCurrency'), 1529531),\n",
       " (('namesMentioned', 'sharesCurrency'), 1529505),\n",
       " (('birthDate', 'sourceUrl'), 1512260),\n",
       " (('owner', 'type'), 1501292),\n",
       " (('registrationNumber', 'type'), 1501287),\n",
       " (('modifiedAt', 'summary'), 1501182),\n",
       " (('model', 'type'), 1501148),\n",
       " (('startDate', 'summary'), 1500847),\n",
       " (('capital', 'registrationNumber'), 1496613),\n",
       " (('date', 'object'), 1472880),\n",
       " (('date', 'subject'), 1472880),\n",
       " (('country', 'landType'), 1447761),\n",
       " (('landType', 'registrationNumber'), 1447761),\n",
       " (('address', 'capital'), 1444391),\n",
       " (('amount', 'description'), 1434121),\n",
       " (('name', 'phone'), 1425158),\n",
       " (('country', 'phone'), 1425140),\n",
       " (('percentage', 'startDate'), 1413776),\n",
       " (('endDate', 'status'), 1413003),\n",
       " (('startDate', 'status'), 1412319),\n",
       " (('capital', 'country'), 1396743),\n",
       " (('classification', 'status'), 1396551),\n",
       " (('address', 'description'), 1393098),\n",
       " (('innCode', 'sourceUrl'), 1381020),\n",
       " (('director', 'summary'), 1379797),\n",
       " (('organization', 'summary'), 1379797),\n",
       " (('role', 'summary'), 1379797),\n",
       " (('birthDate', 'summary'), 1365990),\n",
       " (('incorporationDate', 'sourceUrl'), 1353554),\n",
       " (('entity', 'namesMentioned'), 1299808),\n",
       " (('amount', 'sourceUrl'), 1296812),\n",
       " (('alias', 'registrationNumber'), 1290037),\n",
       " (('authority', 'status'), 1279928),\n",
       " (('country', 'taxNumber'), 1272883),\n",
       " (('name', 'taxNumber'), 1272480),\n",
       " (('okpoCode', 'status'), 1263628),\n",
       " (('percentage', 'role'), 1257004),\n",
       " (('registrationNumber', 'taxNumber'), 1251289),\n",
       " (('amount', 'purpose'), 1238597),\n",
       " (('currency', 'purpose'), 1238597),\n",
       " (('classification', 'legalForm'), 1221597),\n",
       " (('beneficiary', 'purpose'), 1220761),\n",
       " (('phone', 'status'), 1216381),\n",
       " (('idNumber', 'sourceUrl'), 1211937),\n",
       " (('amount', 'date'), 1210486),\n",
       " (('associate', 'person'), 1201549),\n",
       " (('associate', 'relationship'), 1201549),\n",
       " (('ownershipType', 'startDate'), 1188419),\n",
       " (('address', 'phone'), 1180755),\n",
       " (('legalForm', 'notes'), 1175764),\n",
       " (('entity', 'startDate'), 1173956),\n",
       " (('program', 'startDate'), 1173956),\n",
       " (('authority', 'endDate'), 1169658),\n",
       " (('endDate', 'entity'), 1169658),\n",
       " (('endDate', 'program'), 1169658),\n",
       " (('entity', 'status'), 1169658),\n",
       " (('namesMentioned', 'program'), 1169658),\n",
       " (('payer', 'purpose'), 1149005),\n",
       " (('classification', 'sector'), 1146599),\n",
       " (('capital', 'status'), 1140447),\n",
       " (('fileName', 'mimeType'), 1123028),\n",
       " (('contentHash', 'fileName'), 1123020),\n",
       " (('contentHash', 'mimeType'), 1122952),\n",
       " (('contentHash', 'crawler'), 1122090),\n",
       " (('contentHash', 'sourceUrl'), 1122090),\n",
       " (('crawler', 'fileName'), 1122090),\n",
       " (('crawler', 'sourceUrl'), 1122090),\n",
       " (('fileName', 'sourceUrl'), 1122090),\n",
       " (('crawler', 'mimeType'), 1122022),\n",
       " (('mimeType', 'sourceUrl'), 1122022),\n",
       " (('address', 'okpoCode'), 1113282),\n",
       " (('member', 'role'), 1111564),\n",
       " (('country', 'title'), 1109015),\n",
       " (('asset', 'sharesCount'), 1098481),\n",
       " (('namesMentioned', 'sharesCount'), 1098481),\n",
       " (('owner', 'sharesCount'), 1098481),\n",
       " (('registrationNumber', 'summary'), 1081882),\n",
       " (('mainCountry', 'summary'), 1079610),\n",
       " (('contentHash', 'title'), 1070709),\n",
       " (('fileName', 'title'), 1070709),\n",
       " (('mimeType', 'title'), 1070708),\n",
       " (('description', 'registrationNumber'), 1070478),\n",
       " (('crawler', 'title'), 1070304),\n",
       " (('description', 'jurisdiction'), 1069183),\n",
       " (('jurisdiction', 'taxNumber'), 1068496),\n",
       " (('description', 'taxNumber'), 1067810),\n",
       " (('capital', 'taxNumber'), 1067720),\n",
       " (('capital', 'description'), 1067033),\n",
       " (('contract', 'supplier'), 1061398),\n",
       " (('birthDate', 'publisher'), 1025339),\n",
       " (('position', 'sourceUrl'), 1013407),\n",
       " (('address', 'taxNumber'), 1006146),\n",
       " (('namesMentioned', 'purpose'), 1005629),\n",
       " (('amount', 'contract'), 1001476),\n",
       " (('amount', 'supplier'), 1001476),\n",
       " (('person', 'relative'), 998699),\n",
       " (('relationship', 'relative'), 998699),\n",
       " (('coatoCode', 'country'), 984671),\n",
       " (('coatoCode', 'incorporationDate'), 984566),\n",
       " (('coatoCode', 'name'), 982513),\n",
       " (('coatoCode', 'innCode'), 982496),\n",
       " (('address', 'coatoCode'), 980374),\n",
       " (('amount', 'authority'), 966832),\n",
       " (('authority', 'description'), 964227),\n",
       " (('ccdNumber', 'namesMentioned'), 939485),\n",
       " (('ccdValue', 'namesMentioned'), 939485),\n",
       " (('customsAmount', 'namesMentioned'), 939485),\n",
       " (('directionOfTransportation', 'namesMentioned'), 939485),\n",
       " (('goodsDescription', 'namesMentioned'), 939485),\n",
       " (('invoiceAmount', 'namesMentioned'), 939485),\n",
       " (('namesMentioned', 'vedCode'), 939485),\n",
       " (('namesMentioned', 'vedCodeDescription'), 939485),\n",
       " (('customsProcedure', 'namesMentioned'), 939472),\n",
       " (('declarant', 'namesMentioned'), 939472),\n",
       " (('namesMentioned', 'receiver'), 939468),\n",
       " (('namesMentioned', 'sender'), 939083),\n",
       " (('namesMentioned', 'tradingCountry'), 938713),\n",
       " (('amount', 'encumbrance'), 936691),\n",
       " (('currency', 'encumbrance'), 936691),\n",
       " (('incorporationDate', 'okpoCode'), 932288),\n",
       " (('okpoCode', 'sourceUrl'), 932288),\n",
       " (('currency', 'sourceUrl'), 929296),\n",
       " (('contentHash', 'country'), 917275),\n",
       " (('country', 'fileName'), 917275),\n",
       " (('country', 'mimeType'), 917275),\n",
       " (('country', 'crawler'), 917230),\n",
       " (('contract', 'namesMentioned'), 915858),\n",
       " (('namesMentioned', 'supplier'), 915858),\n",
       " (('contentHash', 'language'), 915234),\n",
       " (('country', 'language'), 915234),\n",
       " (('crawler', 'language'), 915234),\n",
       " (('fileName', 'language'), 915234),\n",
       " (('language', 'mimeType'), 915234),\n",
       " (('language', 'sourceUrl'), 915234),\n",
       " (('language', 'title'), 915234),\n",
       " (('classification', 'incorporationDate'), 913608),\n",
       " (('role', 'sharesCount'), 909923),\n",
       " (('percentage', 'sharesCount'), 904197),\n",
       " (('authority', 'country'), 876832),\n",
       " (('birthDate', 'modifiedAt'), 876429),\n",
       " (('innCode', 'jurisdiction'), 874429),\n",
       " (('country', 'encumbrance'), 868414),\n",
       " (('authority', 'contractDate'), 859013),\n",
       " (('amount', 'contractDate'), 855373),\n",
       " (('contractDate', 'description'), 852768),\n",
       " (('capital', 'classification'), 844174),\n",
       " (('ccdNumber', 'startDate'), 836538),\n",
       " (('ccdValue', 'startDate'), 836538),\n",
       " (('customsAmount', 'startDate'), 836538),\n",
       " (('directionOfTransportation', 'startDate'), 836538),\n",
       " (('goodsDescription', 'startDate'), 836538),\n",
       " (('invoiceAmount', 'startDate'), 836538),\n",
       " (('startDate', 'vedCode'), 836538),\n",
       " (('startDate', 'vedCodeDescription'), 836538),\n",
       " (('receiver', 'startDate'), 836530),\n",
       " (('customsProcedure', 'startDate'), 836525),\n",
       " (('declarant', 'startDate'), 836525),\n",
       " (('sender', 'startDate'), 836147),\n",
       " (('startDate', 'tradingCountry'), 835826),\n",
       " (('currency', 'description'), 834709),\n",
       " (('amount', 'transactionNumber'), 830297),\n",
       " (('currency', 'transactionNumber'), 830297),\n",
       " (('position', 'summary'), 829909),\n",
       " (('namesMentioned', 'transactionNumber'), 829870),\n",
       " (('classification', 'position'), 829192),\n",
       " (('keywords', 'position'), 829121),\n",
       " (('departureCountry', 'namesMentioned'), 828985),\n",
       " (('payer', 'transactionNumber'), 827731),\n",
       " (('alias', 'jurisdiction'), 821539),\n",
       " (('beneficiary', 'transactionNumber'), 809957),\n",
       " (('purpose', 'transactionNumber'), 778669),\n",
       " (('amount', 'indexText'), 768095),\n",
       " (('currency', 'indexText'), 768095),\n",
       " (('indexText', 'transactionNumber'), 768045),\n",
       " (('indexText', 'namesMentioned'), 767668),\n",
       " (('amount', 'amountEur'), 766150),\n",
       " (('amount', 'amountUsd'), 766150),\n",
       " (('amountEur', 'amountUsd'), 766150),\n",
       " (('amountEur', 'currency'), 766150),\n",
       " (('amountEur', 'indexText'), 766150),\n",
       " (('amountUsd', 'currency'), 766150),\n",
       " (('amountUsd', 'indexText'), 766150),\n",
       " (('amountEur', 'transactionNumber'), 766146),\n",
       " (('amountUsd', 'transactionNumber'), 766146),\n",
       " (('amountEur', 'namesMentioned'), 765723),\n",
       " (('amountUsd', 'namesMentioned'), 765723),\n",
       " (('indexText', 'payer'), 765528),\n",
       " (('country', 'entity'), 765363),\n",
       " (('amountEur', 'payer'), 763595),\n",
       " (('amountUsd', 'payer'), 763595),\n",
       " (('country', 'reason'), 763012),\n",
       " (('contract', 'tradingCountry'), 758200),\n",
       " (('contractHolder', 'tradingCountry'), 758080),\n",
       " (('alias', 'legalForm'), 752177),\n",
       " (('beneficiary', 'indexText'), 747943),\n",
       " (('capital', 'notes'), 746586),\n",
       " (('amountEur', 'beneficiary'), 745998),\n",
       " (('amountUsd', 'beneficiary'), 745998),\n",
       " (('departureCountry', 'startDate'), 740550),\n",
       " (('country', 'sector'), 720292),\n",
       " (('authority', 'name'), 718928),\n",
       " (('indexText', 'purpose'), 716432),\n",
       " (('contract', 'date'), 715654),\n",
       " (('date', 'supplier'), 715654),\n",
       " (('amountEur', 'purpose'), 715644),\n",
       " (('amountUsd', 'purpose'), 715644),\n",
       " (('sourceUrl', 'startDate'), 712138),\n",
       " (('status', 'taxNumber'), 711328),\n",
       " (('asset', 'sourceUrl'), 703202),\n",
       " (('owner', 'sourceUrl'), 703202),\n",
       " (('sector', 'status'), 700327),\n",
       " (('asset', 'sharesValue'), 698650),\n",
       " (('owner', 'sharesValue'), 698650),\n",
       " (('namesMentioned', 'sharesValue'), 698636),\n",
       " (('sharesCurrency', 'sharesValue'), 698498),\n",
       " (('amount', 'type'), 697796),\n",
       " (('role', 'sourceUrl'), 697429),\n",
       " (('registrationNumber', 'sourceUrl'), 690726),\n",
       " (('description', 'notes'), 671014),\n",
       " (('capital', 'sector'), 669864),\n",
       " (('sector', 'taxNumber'), 669864),\n",
       " (('description', 'sector'), 669779),\n",
       " (('innCode', 'legalForm'), 667511),\n",
       " (('classification', 'taxNumber'), 667445),\n",
       " (('classification', 'description'), 667361),\n",
       " (('capital', 'incorporationDate'), 662545),\n",
       " (('notes', 'taxNumber'), 652172),\n",
       " (('dollarExchRate', 'tradingCountry'), 648834),\n",
       " (('currency', 'date'), 640403),\n",
       " (('coatoCode', 'okpoCode'), 638541),\n",
       " (('coatoCode', 'sourceUrl'), 638541),\n",
       " (('coatoCode', 'status'), 638541),\n",
       " (('description', 'status'), 638190),\n",
       " (('legalForm', 'sourceUrl'), 631170),\n",
       " (('legalForm', 'mainCountry'), 620800),\n",
       " (('client', 'role'), 615522),\n",
       " (('agent', 'client'), 610607),\n",
       " (('agent', 'role'), 609223),\n",
       " (('date', 'endDate'), 596252),\n",
       " (('alias', 'innCode'), 596029),\n",
       " (('phone', 'registrationNumber'), 587389),\n",
       " (('endDate', 'sourceUrl'), 586207),\n",
       " (('address', 'position'), 580925),\n",
       " (('address', 'program'), 580395),\n",
       " (('recordId', 'sourceUrl'), 580213),\n",
       " (('country', 'passportNumber'), 578916),\n",
       " (('authority', 'holder'), 550520),\n",
       " (('authority', 'passportNumber'), 550520),\n",
       " (('currency', 'summary'), 531057),\n",
       " (('date', 'summary'), 531057),\n",
       " (('amount', 'summary'), 530764),\n",
       " (('idNumber', 'phone'), 530334),\n",
       " (('alias', 'phone'), 529535),\n",
       " (('gender', 'phone'), 528643),\n",
       " (('phone', 'position'), 528634),\n",
       " (('phone', 'program'), 528438),\n",
       " (('legalForm', 'summary'), 523267),\n",
       " (('lastName', 'title'), 521036),\n",
       " (('firstName', 'title'), 520522),\n",
       " (('country', 'holder'), 518652),\n",
       " (('country', 'namesMentioned'), 517536),\n",
       " (('description', 'sourceUrl'), 504296),\n",
       " (('authority', 'procedureNumber'), 503649),\n",
       " (('beneficiary', 'date'), 495145),\n",
       " (('contract', 'destinationCountry'), 493848),\n",
       " (('alias', 'birthDate'), 491524),\n",
       " (('contractHolder', 'destinationCountry'), 488903),\n",
       " (('birthDate', 'classification'), 488470),\n",
       " (('birthDate', 'keywords'), 487876),\n",
       " (('endDate', 'summary'), 480666),\n",
       " (('innCode', 'sector'), 478466),\n",
       " (('date', 'purpose'), 476808),\n",
       " (('area', 'description'), 473542),\n",
       " (('classification', 'ipoCode'), 469154),\n",
       " (('country', 'ipoCode'), 469154),\n",
       " (('incorporationDate', 'ipoCode'), 469147),\n",
       " (('jurisdiction', 'phone'), 465839),\n",
       " (('description', 'phone'), 465385),\n",
       " (('ccdNumber', 'endDate'), 465075),\n",
       " (('ccdValue', 'endDate'), 465075),\n",
       " (('customsAmount', 'endDate'), 465075),\n",
       " (('directionOfTransportation', 'endDate'), 465075),\n",
       " (('endDate', 'goodsDescription'), 465075),\n",
       " (('endDate', 'invoiceAmount'), 465075),\n",
       " (('endDate', 'vedCode'), 465075),\n",
       " (('endDate', 'vedCodeDescription'), 465075),\n",
       " (('customsProcedure', 'endDate'), 465072),\n",
       " (('declarant', 'endDate'), 465072),\n",
       " (('endDate', 'receiver'), 465067),\n",
       " (('endDate', 'sender'), 464807),\n",
       " (('endDate', 'tradingCountry'), 464646),\n",
       " (('phone', 'taxNumber'), 464125),\n",
       " (('capital', 'phone'), 463387),\n",
       " (('alias', 'mainCountry'), 458997),\n",
       " (('encumbrance', 'registrationNumber'), 454879),\n",
       " (('alias', 'sector'), 448291),\n",
       " (('organization', 'sourceUrl'), 443712),\n",
       " (('authority', 'currency'), 441340),\n",
       " (('currency', 'procedureNumber'), 440068),\n",
       " (('amount', 'procedureNumber'), 436657),\n",
       " (('birthPlace', 'phone'), 435560),\n",
       " (('description', 'procedureNumber'), 434384),\n",
       " (('date', 'sourceUrl'), 433960),\n",
       " (('phone', 'sourceUrl'), 433110),\n",
       " (('innCode', 'registrationNumber'), 430844),\n",
       " (('procedureNumber', 'sourceUrl'), 426361),\n",
       " (('departureCountry', 'endDate'), 419883),\n",
       " (('currency', 'endDate'), 414190),\n",
       " (('amount', 'endDate'), 413882),\n",
       " (('contract', 'currency'), 410693),\n",
       " (('currency', 'supplier'), 410693),\n",
       " (('date', 'payer'), 407179),\n",
       " (('asset', 'status'), 403109),\n",
       " (('owner', 'status'), 403109),\n",
       " (('asset', 'recordId'), 403103),\n",
       " (('owner', 'recordId'), 403103),\n",
       " (('recordId', 'status'), 403103),\n",
       " (('member', 'sourceUrl'), 402943),\n",
       " (('namesMentioned', 'originCountry'), 401545),\n",
       " (('birthPlace', 'publisher'), 400264),\n",
       " (('birthPlace', 'sourceUrl'), 400081),\n",
       " (('cadastralCode', 'description'), 399614),\n",
       " (('description', 'propertyType'), 399614),\n",
       " (('createDate', 'description'), 397608),\n",
       " (('description', 'type'), 397564),\n",
       " (('classification', 'phone'), 393812),\n",
       " (('authority', 'type'), 393472),\n",
       " (('procedureNumber', 'type'), 392190),\n",
       " (('legalForm', 'nationality'), 391239),\n",
       " (('nationality', 'registrationNumber'), 391196),\n",
       " (('currency', 'startDate'), 388526),\n",
       " (('amount', 'startDate'), 388218),\n",
       " (('beneficiary', 'summary'), 386081),\n",
       " (('payer', 'summary'), 386081),\n",
       " (('commodities', 'name'), 381147),\n",
       " (('commodities', 'sourceUrl'), 379369),\n",
       " (('commodities', 'type'), 379369),\n",
       " (('area', 'commodities'), 379012),\n",
       " (('area', 'sourceUrl'), 379012),\n",
       " (('area', 'type'), 379012),\n",
       " (('bankName', 'name'), 371712),\n",
       " (('amount', 'commodities'), 371555),\n",
       " (('legalForm', 'sector'), 369771),\n",
       " (('purpose', 'summary'), 367755),\n",
       " (('originCountry', 'startDate'), 351981),\n",
       " (('address', 'title'), 349741),\n",
       " (('birthPlace', 'summary'), 343660),\n",
       " (('name', 'title'), 334531),\n",
       " (('jurisdiction', 'okpoCode'), 331340),\n",
       " (('capital', 'sourceUrl'), 330779),\n",
       " (('contractDate', 'currency'), 329881),\n",
       " (('contractDate', 'type'), 329881),\n",
       " (('currency', 'type'), 329881),\n",
       " (('contractDate', 'procedureNumber'), 328609),\n",
       " (('dissolutionDate', 'name'), 327540),\n",
       " (('birthPlace', 'modifiedAt'), 326726),\n",
       " ...]"
      ]
     },
     "execution_count": 8,
     "metadata": {},
     "output_type": "execute_result"
    }
   ],
   "source": [
    "properties_cooccurrence_counter.most_common()"
   ]
  },
  {
   "cell_type": "code",
   "execution_count": 12,
   "id": "outstanding-powder",
   "metadata": {},
   "outputs": [],
   "source": [
    "with open(\"schema_counter.json\", 'wb+') as fd:\n",
    "    fd.write(json.dumps(schema_counter.most_common()))\n",
    "with open(\"properties_counter.json\", 'wb+') as fd:\n",
    "    fd.write(json.dumps(properties_counter.most_common()))\n",
    "with open(\"properties_cooccurrence_counter.json\", 'wb+') as fd:\n",
    "    fd.write(json.dumps(properties_cooccurrence_counter.most_common()))"
   ]
  },
  {
   "cell_type": "code",
   "execution_count": 1,
   "id": "first-spanish",
   "metadata": {},
   "outputs": [
    {
     "ename": "NameError",
     "evalue": "name 'schema_counter' is not defined",
     "output_type": "error",
     "traceback": [
      "\u001b[0;31m---------------------------------------------------------------------------\u001b[0m",
      "\u001b[0;31mNameError\u001b[0m                                 Traceback (most recent call last)",
      "\u001b[0;32m<ipython-input-1-90767c406a09>\u001b[0m in \u001b[0;36m<module>\u001b[0;34m\u001b[0m\n\u001b[0;32m----> 1\u001b[0;31m \u001b[0mschema_counter\u001b[0m\u001b[0;34m\u001b[0m\u001b[0;34m\u001b[0m\u001b[0m\n\u001b[0m",
      "\u001b[0;31mNameError\u001b[0m: name 'schema_counter' is not defined"
     ]
    }
   ],
   "source": [
    "schema_counter"
   ]
  },
  {
   "cell_type": "code",
   "execution_count": null,
   "id": "technological-perspective",
   "metadata": {},
   "outputs": [],
   "source": []
  }
 ],
 "metadata": {
  "kernelspec": {
   "display_name": "Python 3",
   "language": "python",
   "name": "python3"
  },
  "language_info": {
   "codemirror_mode": {
    "name": "ipython",
    "version": 3
   },
   "file_extension": ".py",
   "mimetype": "text/x-python",
   "name": "python",
   "nbconvert_exporter": "python",
   "pygments_lexer": "ipython3",
   "version": "3.8.6"
  }
 },
 "nbformat": 4,
 "nbformat_minor": 5
}
