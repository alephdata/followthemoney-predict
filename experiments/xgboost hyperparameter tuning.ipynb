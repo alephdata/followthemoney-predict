{
 "cells": [
  {
   "cell_type": "code",
   "execution_count": 1,
   "metadata": {},
   "outputs": [],
   "source": [
    "import followthemoney_predict as ftmp\n",
    "from followthemoney_predict.pipelines.xref import util\n",
    "from followthemoney import model as ftm_model\n",
    "import followthemoney as ftm"
   ]
  },
  {
   "cell_type": "code",
   "execution_count": 2,
   "metadata": {},
   "outputs": [],
   "source": [
    "import xgboost as xgb\n",
    "from sklearn.model_selection import RandomizedSearchCV"
   ]
  },
  {
   "cell_type": "code",
   "execution_count": 3,
   "metadata": {},
   "outputs": [
    {
     "name": "stderr",
     "output_type": "stream",
     "text": [
      "/home/micha/work/occrp/followthemoney-predict/venv/lib/python3.7/site-packages/seaborn/rcmod.py:5: MatplotlibDeprecationWarning: \n",
      "The keymap.all_axes rcparam was deprecated in Matplotlib 3.3 and will be removed two minor releases later.\n",
      "  import matplotlib as mpl\n"
     ]
    }
   ],
   "source": [
    "import pandas as pd\n",
    "import seaborn as sns\n",
    "import pylab as py\n",
    "import numpy as np\n",
    "\n",
    "from tqdm.notebook import tqdm"
   ]
  },
  {
   "cell_type": "code",
   "execution_count": 4,
   "metadata": {},
   "outputs": [],
   "source": [
    "import time"
   ]
  },
  {
   "cell_type": "code",
   "execution_count": 5,
   "metadata": {},
   "outputs": [],
   "source": [
    "%autoreload 2\n",
    "pd.options.display.max_columns = None"
   ]
  },
  {
   "cell_type": "code",
   "execution_count": 6,
   "metadata": {},
   "outputs": [],
   "source": [
    "df = pd.read_parquet('../data/xref.aleph.all.parquet')"
   ]
  },
  {
   "cell_type": "code",
   "execution_count": 7,
   "metadata": {},
   "outputs": [],
   "source": [
    "base_model = ftmp.pipelines.xref.models.XrefXGBoost()\n",
    "train, test = base_model.prepair_train_test(df)\n",
    "del df"
   ]
  },
  {
   "cell_type": "code",
   "execution_count": 8,
   "metadata": {},
   "outputs": [],
   "source": [
    "train_X = util.xarray(train.features)\n",
    "test_X = util.xarray(test.features)"
   ]
  },
  {
   "cell_type": "code",
   "execution_count": 9,
   "metadata": {},
   "outputs": [],
   "source": [
    "train_groups = train.left_id + train.right_id"
   ]
  },
  {
   "cell_type": "code",
   "execution_count": 10,
   "metadata": {},
   "outputs": [],
   "source": [
    "param_grid = {\n",
    "    \"n_jobs\": [1],\n",
    "    \"objective\": [\"binary:logistic\"],\n",
    "    \"n_estimators\": [120, 140, 160],\n",
    "    \"max_depth\": [12, 14, 16, 18],\n",
    "    \"learning_rate\": [0.1, 0.2, 0, 3],\n",
    "    \"subsample\": [0.8, 0.9, 1.0],\n",
    "    \"colsample_bytree\": [0.6, 0.7, 0.8, 0.9, 1.0],\n",
    "    \"colsample_bylevel\": [0.9, 1.0],\n",
    "    \"min_child_weight\": [0.6, 8.0, 10.0],\n",
    "    \"gamma\": [1.0, 1.2, 1.4],\n",
    "    \"reg_lambda\": [0.15, 0.2, 0.25],\n",
    "}\n",
    "\n",
    "\n",
    "fit_params = {'eval_metric': 'auc',\n",
    "              'early_stopping_rounds': 10,\n",
    "              'eval_set': [(test_X, test.judgement)],\n",
    "              'sample_weight_eval_set': [test.weight]}"
   ]
  },
  {
   "cell_type": "code",
   "execution_count": 11,
   "metadata": {},
   "outputs": [
    {
     "name": "stdout",
     "output_type": "stream",
     "text": [
      "Randomized search..\n",
      "Fitting 2 folds for each of 300 candidates, totalling 600 fits\n"
     ]
    },
    {
     "name": "stderr",
     "output_type": "stream",
     "text": [
      "[Parallel(n_jobs=8)]: Using backend LokyBackend with 8 concurrent workers.\n",
      "[Parallel(n_jobs=8)]: Done  17 tasks      | elapsed: 18.8min\n",
      "[Parallel(n_jobs=8)]: Done  90 tasks      | elapsed: 108.7min\n",
      "/home/micha/work/occrp/followthemoney-predict/venv/lib/python3.7/site-packages/joblib/externals/loky/process_executor.py:691: UserWarning: A worker stopped while some jobs were given to the executor. This can be caused by a too short worker timeout or by a memory leak.\n",
      "  \"timeout or by a memory leak.\", UserWarning\n",
      "[Parallel(n_jobs=8)]: Done 213 tasks      | elapsed: 221.5min\n",
      "[Parallel(n_jobs=8)]: Done 384 tasks      | elapsed: 391.7min\n",
      "[Parallel(n_jobs=8)]: Done 600 out of 600 | elapsed: 602.5min finished\n"
     ]
    },
    {
     "name": "stdout",
     "output_type": "stream",
     "text": [
      "[11:23:41] WARNING: ../src/gbm/gbtree.cc:139: Tree method is automatically selected to be 'approx' for faster speed. To use old behavior (exact greedy algorithm on single machine), set tree_method to 'exact'.\n",
      "[0]\tvalidation_0-auc:0.93270\n",
      "Will train until validation_0-auc hasn't improved in 10 rounds.\n",
      "[1]\tvalidation_0-auc:0.93049\n",
      "[2]\tvalidation_0-auc:0.93363\n",
      "[3]\tvalidation_0-auc:0.93618\n",
      "[4]\tvalidation_0-auc:0.93599\n",
      "[5]\tvalidation_0-auc:0.93775\n",
      "[6]\tvalidation_0-auc:0.93840\n",
      "[7]\tvalidation_0-auc:0.93852\n",
      "[8]\tvalidation_0-auc:0.93878\n",
      "[9]\tvalidation_0-auc:0.93869\n",
      "[10]\tvalidation_0-auc:0.93887\n",
      "[11]\tvalidation_0-auc:0.93913\n",
      "[12]\tvalidation_0-auc:0.93954\n",
      "[13]\tvalidation_0-auc:0.93989\n",
      "[14]\tvalidation_0-auc:0.93998\n",
      "[15]\tvalidation_0-auc:0.94005\n",
      "[16]\tvalidation_0-auc:0.94017\n",
      "[17]\tvalidation_0-auc:0.94012\n",
      "[18]\tvalidation_0-auc:0.94017\n",
      "[19]\tvalidation_0-auc:0.94039\n",
      "[20]\tvalidation_0-auc:0.94050\n",
      "[21]\tvalidation_0-auc:0.94072\n",
      "[22]\tvalidation_0-auc:0.94074\n",
      "[23]\tvalidation_0-auc:0.94064\n",
      "[24]\tvalidation_0-auc:0.94077\n",
      "[25]\tvalidation_0-auc:0.94104\n",
      "[26]\tvalidation_0-auc:0.94106\n",
      "[27]\tvalidation_0-auc:0.94092\n",
      "[28]\tvalidation_0-auc:0.94092\n",
      "[29]\tvalidation_0-auc:0.94093\n",
      "[30]\tvalidation_0-auc:0.94107\n",
      "[31]\tvalidation_0-auc:0.94103\n",
      "[32]\tvalidation_0-auc:0.94120\n",
      "[33]\tvalidation_0-auc:0.94100\n",
      "[34]\tvalidation_0-auc:0.94121\n",
      "[35]\tvalidation_0-auc:0.94127\n",
      "[36]\tvalidation_0-auc:0.94125\n",
      "[37]\tvalidation_0-auc:0.94115\n",
      "[38]\tvalidation_0-auc:0.94125\n",
      "[39]\tvalidation_0-auc:0.94136\n",
      "[40]\tvalidation_0-auc:0.94130\n",
      "[41]\tvalidation_0-auc:0.94142\n",
      "[42]\tvalidation_0-auc:0.94137\n",
      "[43]\tvalidation_0-auc:0.94168\n",
      "[44]\tvalidation_0-auc:0.94178\n",
      "[45]\tvalidation_0-auc:0.94168\n",
      "[46]\tvalidation_0-auc:0.94168\n",
      "[47]\tvalidation_0-auc:0.94168\n",
      "[48]\tvalidation_0-auc:0.94173\n",
      "[49]\tvalidation_0-auc:0.94176\n",
      "[50]\tvalidation_0-auc:0.94193\n",
      "[51]\tvalidation_0-auc:0.94194\n",
      "[52]\tvalidation_0-auc:0.94213\n",
      "[53]\tvalidation_0-auc:0.94213\n",
      "[54]\tvalidation_0-auc:0.94214\n",
      "[55]\tvalidation_0-auc:0.94235\n",
      "[56]\tvalidation_0-auc:0.94237\n",
      "[57]\tvalidation_0-auc:0.94232\n",
      "[58]\tvalidation_0-auc:0.94231\n",
      "[59]\tvalidation_0-auc:0.94242\n",
      "[60]\tvalidation_0-auc:0.94248\n",
      "[61]\tvalidation_0-auc:0.94258\n",
      "[62]\tvalidation_0-auc:0.94260\n",
      "[63]\tvalidation_0-auc:0.94262\n",
      "[64]\tvalidation_0-auc:0.94261\n",
      "[65]\tvalidation_0-auc:0.94332\n",
      "[66]\tvalidation_0-auc:0.94338\n",
      "[67]\tvalidation_0-auc:0.94339\n",
      "[68]\tvalidation_0-auc:0.94354\n",
      "[69]\tvalidation_0-auc:0.94353\n",
      "[70]\tvalidation_0-auc:0.94354\n",
      "[71]\tvalidation_0-auc:0.94361\n",
      "[72]\tvalidation_0-auc:0.94357\n",
      "[73]\tvalidation_0-auc:0.94362\n",
      "[74]\tvalidation_0-auc:0.94358\n",
      "[75]\tvalidation_0-auc:0.94355\n",
      "[76]\tvalidation_0-auc:0.94358\n",
      "[77]\tvalidation_0-auc:0.94359\n",
      "[78]\tvalidation_0-auc:0.94357\n",
      "[79]\tvalidation_0-auc:0.94352\n",
      "[80]\tvalidation_0-auc:0.94356\n",
      "[81]\tvalidation_0-auc:0.94367\n",
      "[82]\tvalidation_0-auc:0.94368\n",
      "[83]\tvalidation_0-auc:0.94368\n",
      "[84]\tvalidation_0-auc:0.94366\n",
      "[85]\tvalidation_0-auc:0.94368\n",
      "[86]\tvalidation_0-auc:0.94369\n",
      "[87]\tvalidation_0-auc:0.94370\n",
      "[88]\tvalidation_0-auc:0.94370\n",
      "[89]\tvalidation_0-auc:0.94370\n",
      "[90]\tvalidation_0-auc:0.94373\n",
      "[91]\tvalidation_0-auc:0.94372\n",
      "[92]\tvalidation_0-auc:0.94380\n",
      "[93]\tvalidation_0-auc:0.94380\n",
      "[94]\tvalidation_0-auc:0.94383\n",
      "[95]\tvalidation_0-auc:0.94381\n",
      "[96]\tvalidation_0-auc:0.94383\n",
      "[97]\tvalidation_0-auc:0.94378\n",
      "[98]\tvalidation_0-auc:0.94378\n",
      "[99]\tvalidation_0-auc:0.94378\n",
      "[100]\tvalidation_0-auc:0.94376\n",
      "[101]\tvalidation_0-auc:0.94378\n",
      "[102]\tvalidation_0-auc:0.94379\n",
      "[103]\tvalidation_0-auc:0.94378\n",
      "[104]\tvalidation_0-auc:0.94378\n",
      "Stopping. Best iteration:\n",
      "[94]\tvalidation_0-auc:0.94383\n",
      "\n"
     ]
    },
    {
     "data": {
      "text/plain": [
       "RandomizedSearchCV(cv=2,\n",
       "                   estimator=XGBClassifier(base_score=None, booster=None,\n",
       "                                           colsample_bylevel=None,\n",
       "                                           colsample_bynode=None,\n",
       "                                           colsample_bytree=None, gamma=None,\n",
       "                                           gpu_id=None, importance_type='gain',\n",
       "                                           interaction_constraints=None,\n",
       "                                           learning_rate=None,\n",
       "                                           max_delta_step=None, max_depth=None,\n",
       "                                           min_child_weight=None, missing=nan,\n",
       "                                           monotone_constraints=None,\n",
       "                                           n_estimators=100,...\n",
       "                   param_distributions={'colsample_bylevel': [0.9, 1.0],\n",
       "                                        'colsample_bytree': [0.6, 0.7, 0.8, 0.9,\n",
       "                                                             1.0],\n",
       "                                        'gamma': [1.0, 1.2, 1.4],\n",
       "                                        'learning_rate': [0.1, 0.2, 0, 3],\n",
       "                                        'max_depth': [12, 14, 16, 18],\n",
       "                                        'min_child_weight': [0.6, 8.0, 10.0],\n",
       "                                        'n_estimators': [120, 140, 160],\n",
       "                                        'n_jobs': [1],\n",
       "                                        'objective': ['binary:logistic'],\n",
       "                                        'reg_lambda': [0.15, 0.2, 0.25],\n",
       "                                        'subsample': [0.8, 0.9, 1.0]},\n",
       "                   pre_dispatch='n_jobs', random_state=42, scoring='roc_auc',\n",
       "                   verbose=4)"
      ]
     },
     "execution_count": 11,
     "metadata": {},
     "output_type": "execute_result"
    }
   ],
   "source": [
    "clf = xgb.XGBClassifier()\n",
    "rs_clf = RandomizedSearchCV(clf, param_grid, n_iter=300,\n",
    "                            n_jobs=8, verbose=4, cv=2,\n",
    "                            scoring='roc_auc', refit=True,\n",
    "                            pre_dispatch='n_jobs', random_state=42)\n",
    "print(\"Randomized search..\")\n",
    "rs_clf.fit(train_X, train.judgement, groups=train_groups, **fit_params)"
   ]
  },
  {
   "cell_type": "code",
   "execution_count": 12,
   "metadata": {},
   "outputs": [
    {
     "name": "stdout",
     "output_type": "stream",
     "text": [
      "Best score: 0.9757834849957818\n",
      "Best params: \n",
      "colsample_bylevel: 1.0\n",
      "colsample_bytree: 0.9\n",
      "gamma: 1.2\n",
      "learning_rate: 0.2\n",
      "max_depth: 18\n",
      "min_child_weight: 0.6\n",
      "n_estimators: 120\n",
      "n_jobs: 1\n",
      "objective: 'binary:logistic'\n",
      "reg_lambda: 0.2\n",
      "subsample: 0.8\n"
     ]
    }
   ],
   "source": [
    "best_score = rs_clf.best_score_\n",
    "best_params = rs_clf.best_params_\n",
    "print(\"Best score: {}\".format(best_score))\n",
    "print(\"Best params: \")\n",
    "for param_name in sorted(best_params.keys()):\n",
    "    print('%s: %r' % (param_name, best_params[param_name]))"
   ]
  },
  {
   "cell_type": "code",
   "execution_count": 13,
   "metadata": {},
   "outputs": [
    {
     "name": "stdout",
     "output_type": "stream",
     "text": [
      "Num Positive Predictions: 1040283\n",
      "Num Negavie Predictions: 612792\n",
      "Certain Positives\n",
      "    [pos] Flixflax AG in Liquidation (co: ch, re: CH-020, id: CHE-16) vs <NA> (co: ch, re: CH-020, ad: CH, 89, id: CHE-16)-> { F: 0.00, T: 100.00 }\n",
      "    [pos] <NA> (co: ch, re: CH-020, id: CHE-10) vs THAMA AG (co: ch, re: CH-020, ad: CH, 84, id: CHE-10)-> { F: 0.00, T: 100.00 }\n",
      "    [pos] Livermore Real Estate 1 AG in Liquidation (re: CH-020, ad: CH, 80, id: CHE-11) vs <NA> (co: ch, re: CH-020, ad: CH, 80, id: CHE-11)-> { F: 0.00, T: 100.00 }\n",
      "    [pos] Муниципальное учреждение здравоохранения Тамбовская центральная районная больница (co: ru, ad: 676950) vs <NA> (co: ru, ad: 676950)-> { F: 0.00, T: 100.00 }\n",
      "    [pos] OPERETTENBUEHNE HOMBRECHTIKON (re: CH-020, ad: CH, 86, id: CHE-10) vs <NA> (co: ch, re: CH-020, ad: CH, 86, id: CHE-10)-> { F: 0.00, T: 100.00 }\n",
      "Certain Negatives\n",
      "    [neg] Pierre Poilievre (bi: 1979-0, na: ca) vs A. D. Premadasa (bi: 1948-1, na: lk)-> { F: 100.00, T: 0.00 }\n",
      "    [neg] Hr. Slamet Paul Somohardjo (na: sr) vs Dan Biancalana (bi: 1977-1, na: lu)-> { F: 100.00, T: 0.00 }\n",
      "    [neg] Sardar Awais Ahmad Khan Leghari (bi: 1971-0, na: pk) vs Michel Fanget (bi: 1950-0, na: fr)-> { F: 100.00, T: 0.00 }\n",
      "    [neg] <NA> (na: ca) vs Christofilopoulou Paraskevi (Evi) (na: gr)-> { F: 100.00, T: 0.00 }\n",
      "    [neg] Sonja Rembo (bi: 1933-0, na: se) vs Ľubica Navrátilová (bi: 1946-0, na: sk)-> { F: 100.00, T: 0.00 }\n",
      "Uncertain Predictions\n",
      "    [pos] <NA> () vs <NA> ()-> { F: 50.01, T: 49.99 }\n",
      "    [pos] CHAPMAN & ASOCIADOS S.A.S. (co: co, ad: CALLE ) vs CHAPMAN Y ASOCIADOS SAS (re: 802022, ad: KRA 14)-> { F: 50.01, T: 49.99 }\n",
      "    [neg] Kamal Ben Maoeldi Al-Hamraoui Ben Hassan (ad: Via Be, id: P22985, bi: 1977-1, na: tn) vs <NA> (co: ye, ad: Jamal )-> { F: 49.99, T: 50.01 }\n",
      "    [pos] ISHAN (co: qa) vs <NA> (id: 283144)-> { F: 50.02, T: 49.98 }\n",
      "    [pos] <NA> () vs <NA> (ad: КУРБУ-)-> { F: 49.98, T: 50.02 }\n",
      "    [pos] <NA> () vs <NA> ()-> { F: 49.98, T: 50.02 }\n",
      "    [neg] Mikalai Aliakseevich Trubnikau () vs Alexander Mikhailovich Babakov ()-> { F: 49.98, T: 50.02 }\n",
      "    [neg] Aliaksandr Mikhailavich Lashyn () vs <NA> (ad: Суд Ле)-> { F: 49.98, T: 50.02 }\n",
      "    [pos] <NA> (co: gb) vs <NA> (co: gb)-> { F: 50.02, T: 49.98 }\n",
      "    [pos] FATMA ALMULLA () vs ALMULLA.F ()-> { F: 50.03, T: 49.97 }\n"
     ]
    }
   ],
   "source": [
    "predict = rs_clf.predict_proba(test_X)\n",
    "base_model.describe_predictions(test, predict)"
   ]
  },
  {
   "cell_type": "code",
   "execution_count": null,
   "metadata": {},
   "outputs": [],
   "source": []
  }
 ],
 "metadata": {
  "kernelspec": {
   "display_name": "Python 3",
   "language": "python",
   "name": "python3"
  },
  "language_info": {
   "codemirror_mode": {
    "name": "ipython",
    "version": 3
   },
   "file_extension": ".py",
   "mimetype": "text/x-python",
   "name": "python",
   "nbconvert_exporter": "python",
   "pygments_lexer": "ipython3",
   "version": "3.7.2"
  }
 },
 "nbformat": 4,
 "nbformat_minor": 4
}
